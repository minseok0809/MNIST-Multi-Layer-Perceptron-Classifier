{
  "cells": [
    {
      "cell_type": "markdown",
      "metadata": {},
      "source": [
        "### 애니메이션 캐릭터 감정 분류"
      ]
    },
    {
      "cell_type": "markdown",
      "metadata": {},
      "source": [
        "<br>"
      ]
    },
    {
      "cell_type": "markdown",
      "metadata": {},
      "source": [
        "[애니메이션 속 캐릭터 얼굴 랜드마크 데이터](https://www.aihub.or.kr/aihubdata/data/view.do?currMenu=115&topMenu=100&aihubDataSe=realm&dataSetSn=570)\n",
        "<br>[애니메이션 캐릭터 감정 분류](https://aifactory.space/task/2657/overview)"
      ]
    },
    {
      "cell_type": "markdown",
      "metadata": {},
      "source": [
        "<br>"
      ]
    },
    {
      "cell_type": "code",
      "execution_count": null,
      "metadata": {},
      "outputs": [],
      "source": [
        "import numpy as np\n",
        "from tensorflow.keras.models import Sequential\n",
        "from tensorflow.keras.layers import Dense, Flatten\n",
        "from tensorflow.keras.utils import to_categorical\n",
        "from tensorflow.keras.models import load_model"
      ]
    },
    {
      "cell_type": "code",
      "execution_count": 6,
      "metadata": {},
      "outputs": [
        {
          "name": "stdout",
          "output_type": "stream",
          "text": [
            "Epoch 1/40\n",
            "28/28 [==============================] - 1s 6ms/step - loss: 1.2558 - accuracy: 0.5648\n",
            "Epoch 2/40\n",
            "28/28 [==============================] - 0s 6ms/step - loss: 1.1996 - accuracy: 0.5398\n",
            "Epoch 3/40\n",
            "28/28 [==============================] - 0s 6ms/step - loss: 1.1270 - accuracy: 0.5966\n",
            "Epoch 4/40\n",
            "28/28 [==============================] - 0s 6ms/step - loss: 1.0775 - accuracy: 0.6182\n",
            "Epoch 5/40\n",
            "28/28 [==============================] - 0s 6ms/step - loss: 1.0352 - accuracy: 0.6216\n",
            "Epoch 6/40\n",
            "28/28 [==============================] - 0s 6ms/step - loss: 0.9650 - accuracy: 0.6409\n",
            "Epoch 7/40\n",
            "28/28 [==============================] - 0s 6ms/step - loss: 0.8929 - accuracy: 0.6739\n",
            "Epoch 8/40\n",
            "28/28 [==============================] - 0s 6ms/step - loss: 0.8645 - accuracy: 0.6784\n",
            "Epoch 9/40\n",
            "28/28 [==============================] - 0s 6ms/step - loss: 0.8451 - accuracy: 0.6784\n",
            "Epoch 10/40\n",
            "28/28 [==============================] - 0s 6ms/step - loss: 0.7960 - accuracy: 0.7023\n",
            "Epoch 11/40\n",
            "28/28 [==============================] - 0s 6ms/step - loss: 0.7526 - accuracy: 0.7341\n",
            "Epoch 12/40\n",
            "28/28 [==============================] - 0s 6ms/step - loss: 0.7263 - accuracy: 0.7330\n",
            "Epoch 13/40\n",
            "28/28 [==============================] - 0s 6ms/step - loss: 0.6694 - accuracy: 0.7636\n",
            "Epoch 14/40\n",
            "28/28 [==============================] - 0s 6ms/step - loss: 0.5922 - accuracy: 0.7898\n",
            "Epoch 15/40\n",
            "28/28 [==============================] - 0s 6ms/step - loss: 0.6037 - accuracy: 0.7818\n",
            "Epoch 16/40\n",
            "28/28 [==============================] - 0s 6ms/step - loss: 0.6330 - accuracy: 0.7705\n",
            "Epoch 17/40\n",
            "28/28 [==============================] - 0s 6ms/step - loss: 0.7198 - accuracy: 0.7432\n",
            "Epoch 18/40\n",
            "28/28 [==============================] - 0s 6ms/step - loss: 0.5338 - accuracy: 0.8136\n",
            "Epoch 19/40\n",
            "28/28 [==============================] - 0s 6ms/step - loss: 0.5159 - accuracy: 0.8182\n",
            "Epoch 20/40\n",
            "28/28 [==============================] - 0s 6ms/step - loss: 0.5151 - accuracy: 0.8182\n",
            "Epoch 21/40\n",
            "28/28 [==============================] - 0s 6ms/step - loss: 0.3836 - accuracy: 0.8670\n",
            "Epoch 22/40\n",
            "28/28 [==============================] - 0s 6ms/step - loss: 0.4530 - accuracy: 0.8273\n",
            "Epoch 23/40\n",
            "28/28 [==============================] - 0s 6ms/step - loss: 0.4513 - accuracy: 0.8443\n",
            "Epoch 24/40\n",
            "28/28 [==============================] - 0s 6ms/step - loss: 0.5447 - accuracy: 0.8057\n",
            "Epoch 25/40\n",
            "28/28 [==============================] - 0s 6ms/step - loss: 0.4085 - accuracy: 0.8614\n",
            "Epoch 26/40\n",
            "28/28 [==============================] - 0s 6ms/step - loss: 0.3566 - accuracy: 0.8807\n",
            "Epoch 27/40\n",
            "28/28 [==============================] - 0s 6ms/step - loss: 0.3103 - accuracy: 0.8920\n",
            "Epoch 28/40\n",
            "28/28 [==============================] - 0s 6ms/step - loss: 0.2852 - accuracy: 0.9000\n",
            "Epoch 29/40\n",
            "28/28 [==============================] - 0s 6ms/step - loss: 0.3032 - accuracy: 0.8841\n",
            "Epoch 30/40\n",
            "28/28 [==============================] - 0s 6ms/step - loss: 0.3592 - accuracy: 0.8693\n",
            "Epoch 31/40\n",
            "28/28 [==============================] - 0s 6ms/step - loss: 0.2432 - accuracy: 0.9136\n",
            "Epoch 32/40\n",
            "28/28 [==============================] - 0s 6ms/step - loss: 0.3753 - accuracy: 0.8602\n",
            "Epoch 33/40\n",
            "28/28 [==============================] - 0s 6ms/step - loss: 0.3409 - accuracy: 0.8727\n",
            "Epoch 34/40\n",
            "28/28 [==============================] - 0s 6ms/step - loss: 0.2837 - accuracy: 0.9023\n",
            "Epoch 35/40\n",
            "28/28 [==============================] - 0s 6ms/step - loss: 0.2231 - accuracy: 0.9148\n",
            "Epoch 36/40\n",
            "28/28 [==============================] - 0s 6ms/step - loss: 0.2085 - accuracy: 0.9205\n",
            "Epoch 37/40\n",
            "28/28 [==============================] - 0s 6ms/step - loss: 0.2592 - accuracy: 0.9023\n",
            "Epoch 38/40\n",
            "28/28 [==============================] - 0s 6ms/step - loss: 0.2307 - accuracy: 0.9193\n",
            "Epoch 39/40\n",
            "28/28 [==============================] - 0s 6ms/step - loss: 0.2463 - accuracy: 0.9125\n",
            "Epoch 40/40\n",
            "28/28 [==============================] - 0s 6ms/step - loss: 0.2046 - accuracy: 0.9250\n",
            "7/7 [==============================] - 0s 3ms/step\n"
          ]
        }
      ],
      "source": [
        "x_train_path = 'data/x_train.npy'\n",
        "y_train_path = 'data/y_train.npy'\n",
        "model_save_path = 'model.h5'\n",
        "\n",
        "x_train = np.load(x_train_path)\n",
        "y_train = np.load(y_train_path)\n",
        "\n",
        "model = Sequential([\n",
        "    Flatten(input_shape=(28, 28, 3)),\n",
        "    Dense(128, activation='relu'),\n",
        "    Dense(128, activation='relu'),\n",
        "    Dense(128, activation='relu'),\n",
        "    Dense(6, activation='softmax')\n",
        "])\n",
        "\n",
        "\n",
        "model.compile(optimizer='adam', loss='categorical_crossentropy', metrics=['accuracy'])\n",
        "model.fit(x_train, y_train, epochs=40, batch_size=32)\n",
        "\n",
        "model.save(model_save_path)\n",
        "\n",
        "x_test_path = 'data/x_test.npy'\n",
        "# y_pred_save_path = sys.argv[3]\n",
        "\n",
        "model = load_model(model_save_path)\n",
        "x_test = np.load(x_test_path)\n",
        "\n",
        "y_pred = model.predict(x_test)\n",
        "y_pred_labels = np.argmax(y_pred, axis=1)\n",
        "y_pred_onehot = to_categorical(y_pred_labels)\n",
        "\n",
        "np.save('./y_pred.npy', y_pred_onehot)"
      ]
    }
  ],
  "metadata": {
    "accelerator": "GPU",
    "colab": {
      "provenance": []
    },
    "kernelspec": {
      "display_name": "Python 3",
      "name": "python3"
    },
    "language_info": {
      "codemirror_mode": {
        "name": "ipython",
        "version": 3
      },
      "file_extension": ".py",
      "mimetype": "text/x-python",
      "name": "python",
      "nbconvert_exporter": "python",
      "pygments_lexer": "ipython3",
      "version": "3.9.13"
    }
  },
  "nbformat": 4,
  "nbformat_minor": 0
}
