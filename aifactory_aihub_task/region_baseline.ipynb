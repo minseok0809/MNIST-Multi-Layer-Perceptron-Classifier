{
  "cells": [
    {
      "cell_type": "markdown",
      "metadata": {},
      "source": [
        "### 전라남도 지역 전력소비패턴 예측"
      ]
    },
    {
      "cell_type": "markdown",
      "metadata": {},
      "source": [
        "<br>"
      ]
    },
    {
      "cell_type": "markdown",
      "metadata": {},
      "source": [
        "[전라남도 지역 전력소비패턴 예측](https://aifactory.space/task/2648/leaderboard)\n",
        "<br>[전력신사업을 위한 전라남도 지역 전력소비패턴 데이터](https://www.aihub.or.kr/aihubdata/data/view.do?currMenu=115&topMenu=100&aihubDataSe=realm&dataSetSn=71359)"
      ]
    },
    {
      "cell_type": "markdown",
      "metadata": {},
      "source": [
        "<br>"
      ]
    },
    {
      "cell_type": "code",
      "execution_count": 1,
      "metadata": {},
      "outputs": [],
      "source": [
        "import numpy as np\n",
        "import sys\n",
        "import pickle\n",
        "import xgboost as xgb"
      ]
    },
    {
      "cell_type": "code",
      "execution_count": 2,
      "metadata": {},
      "outputs": [
        {
          "name": "stdout",
          "output_type": "stream",
          "text": [
            "[0]\ttrain-rmse:0.33601\ttrain-MAPE:252.90921\n",
            "[100]\ttrain-rmse:0.29870\ttrain-MAPE:171.38934\n",
            "[200]\ttrain-rmse:0.29694\ttrain-MAPE:168.82609\n",
            "[300]\ttrain-rmse:0.29578\ttrain-MAPE:167.22747\n",
            "[399]\ttrain-rmse:0.29498\ttrain-MAPE:166.21057\n"
          ]
        }
      ],
      "source": [
        "x_train_path = 'data/x_train.npy'\n",
        "y_train_path = 'data/y_train.npy'\n",
        "model_save_path = 'output/xgboost_400.pkl'\n",
        "\n",
        "x_train = np.load(x_train_path, allow_pickle=True)\n",
        "y_train = np.load(y_train_path, allow_pickle=True)\n",
        "\n",
        "# Convert to DMatrix\n",
        "dtrain = xgb.DMatrix(x_train, label=y_train)\n",
        "\n",
        "# Set parameters\n",
        "params = {\n",
        "    'base_score': 0.5,\n",
        "    'booster': 'gbtree',\n",
        "    'objective': 'reg:squarederror',\n",
        "    'max_depth': 3,\n",
        "    'learning_rate': 0.05,\n",
        "    'subsample': 0.5,  # Consider using subsample to reduce memory usage\n",
        "    'max_bin': 256,  # Reduce number of bins\n",
        "    'device': 'cuda',  # Use GPU accelerated algorithm\n",
        "}\n",
        "\n",
        "# Custom evaluation function for MAPE\n",
        "def mape(preds, dtrain):\n",
        "    labels = dtrain.get_label()\n",
        "    return 'MAPE', np.mean(np.abs((labels - preds) / (labels + 1e-6))) * 100  # Avoid division by zero\n",
        "\n",
        "# Train the XGBoost model with custom evaluation metric\n",
        "model = xgb.train(params, dtrain, evals=[(dtrain, 'train')],\n",
        "                  custom_metric=mape,  # Use the custom evaluation function\n",
        "                  verbose_eval=100, num_boost_round=400)\n",
        "\n",
        "# save\n",
        "pickle.dump(model, open(model_save_path, \"wb\"))"
      ]
    },
    {
      "cell_type": "code",
      "execution_count": 3,
      "metadata": {},
      "outputs": [],
      "source": [
        "import numpy as np\n",
        "import sys\n",
        "import pickle\n",
        "import xgboost as xgb"
      ]
    },
    {
      "cell_type": "code",
      "execution_count": 5,
      "metadata": {
        "id": "ymGJrrnqhHlj"
      },
      "outputs": [],
      "source": [
        "model_path = 'output/xgboost_400.pkl'\n",
        "x_test_path = 'data/x_test.npy'\n",
        "y_pred_save_path = 'y_pred.npy'\n",
        "\n",
        "# 모델 로딩\n",
        "with open(model_path, \"rb\") as f:\n",
        "    model = pickle.load(f)\n",
        "\n",
        "x_test = np.load(x_test_path, allow_pickle=True)\n",
        "\n",
        "# Convert numpy array to DMatrix\n",
        "dtest = xgb.DMatrix(x_test)\n",
        "\n",
        "y_pred = model.predict(dtest)\n",
        "np.save(y_pred_save_path, y_pred)"
      ]
    },
    {
      "cell_type": "code",
      "execution_count": null,
      "metadata": {},
      "outputs": [],
      "source": []
    }
  ],
  "metadata": {
    "accelerator": "GPU",
    "colab": {
      "gpuType": "T4",
      "provenance": []
    },
    "kernelspec": {
      "display_name": "Python 3",
      "name": "python3"
    },
    "language_info": {
      "codemirror_mode": {
        "name": "ipython",
        "version": 3
      },
      "file_extension": ".py",
      "mimetype": "text/x-python",
      "name": "python",
      "nbconvert_exporter": "python",
      "pygments_lexer": "ipython3",
      "version": "3.9.13"
    }
  },
  "nbformat": 4,
  "nbformat_minor": 0
}
