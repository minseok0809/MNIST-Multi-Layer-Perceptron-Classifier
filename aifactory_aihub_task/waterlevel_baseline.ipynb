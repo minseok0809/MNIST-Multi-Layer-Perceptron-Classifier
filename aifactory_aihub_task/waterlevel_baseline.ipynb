{
  "cells": [
    {
      "cell_type": "markdown",
      "metadata": {},
      "source": [
        "### 국내 강/하천 목자판 수위 레벨 인식"
      ]
    },
    {
      "cell_type": "markdown",
      "metadata": {},
      "source": [
        "<br>"
      ]
    },
    {
      "cell_type": "markdown",
      "metadata": {},
      "source": [
        "[수위 측정 데이터](https://www.aihub.or.kr/aihubdata/data/view.do?currMenu=115&topMenu=100&dataSetSn=71494)\n",
        "<br>[국내 강/하천 목자판 수위 레벨 인식](https://aifactory.space/task/2639/leaderboard)"
      ]
    },
    {
      "cell_type": "markdown",
      "metadata": {},
      "source": [
        "<br>"
      ]
    },
    {
      "cell_type": "code",
      "execution_count": null,
      "metadata": {},
      "outputs": [],
      "source": [
        "import numpy as np\n",
        "import tensorflow as tf\n",
        "from sklearn.model_selection import train_test_split"
      ]
    },
    {
      "cell_type": "code",
      "execution_count": 7,
      "metadata": {},
      "outputs": [
        {
          "name": "stdout",
          "output_type": "stream",
          "text": [
            "Epoch 1/3\n"
          ]
        },
        {
          "name": "stderr",
          "output_type": "stream",
          "text": [
            "2023-11-13 00:10:46.035179: E tensorflow/core/grappler/optimizers/meta_optimizer.cc:961] layout failed: INVALID_ARGUMENT: Size of values 0 does not match size of permutation 4 @ fanin shape insequential_4/dropout_19/dropout/SelectV2-2-TransposeNHWCToNCHW-LayoutOptimizer\n"
          ]
        },
        {
          "name": "stdout",
          "output_type": "stream",
          "text": [
            "2284/2284 [==============================] - 63s 26ms/step - loss: 20.8080 - mae: 3.7859 - val_loss: 15.3633 - val_mae: 3.3515\n",
            "Epoch 2/3\n",
            "2284/2284 [==============================] - 59s 26ms/step - loss: 15.8237 - mae: 3.4009 - val_loss: 17.1760 - val_mae: 3.4929\n",
            "Epoch 3/3\n",
            "2284/2284 [==============================] - 59s 26ms/step - loss: 15.6600 - mae: 3.3945 - val_loss: 14.7342 - val_mae: 3.2905\n",
            "143/143 [==============================] - 3s 20ms/step - loss: 14.7341 - mae: 3.2905\n",
            "INFO:tensorflow:Assets written to: output/assets\n"
          ]
        },
        {
          "name": "stderr",
          "output_type": "stream",
          "text": [
            "INFO:tensorflow:Assets written to: output/assets\n"
          ]
        }
      ],
      "source": [
        "def create_model():\n",
        "\n",
        "    \"\"\"\n",
        "    model = tf.keras.models.Sequential([\n",
        "        tf.keras.layers.Conv2D(32, (3, 3), activation='relu', input_shape=(128, 128, 3)),\n",
        "        tf.keras.layers.MaxPooling2D(2, 2),\n",
        "        tf.keras.layers.Conv2D(64, (3, 3), activation='relu'),\n",
        "        tf.keras.layers.MaxPooling2D(2, 2),\n",
        "        tf.keras.layers.Flatten(),\n",
        "        tf.keras.layers.Dense(64, activation='relu'),\n",
        "        tf.keras.layers.Dense(1)\n",
        "    ])\n",
        "    \"\"\"\n",
        "    \n",
        "    model = tf.keras.models.Sequential([\n",
        "        tf.keras.layers.InputLayer(input_shape=(128, 128, 3)),\n",
        "        tf.keras.layers.Conv2D(64, 3, activation='relu', padding='SAME'), #cnn layer\n",
        "        tf.keras.layers.BatchNormalization(), #batch norm layer\n",
        "        tf.keras.layers.Conv2D(64, 3, activation='relu', padding='SAME'), #cnn layer\n",
        "        tf.keras.layers.BatchNormalization(), #batch norm layer\n",
        "        tf.keras.layers.Conv2D(64, 3, activation='relu', padding='SAME'), #cnn layer\n",
        "        tf.keras.layers.BatchNormalization(), #batch norm layer\n",
        "        \n",
        "        tf.keras.layers.MaxPooling2D(pool_size=(2, 2)), #pooling layer\n",
        "        tf.keras.layers.Dropout(0.1),\n",
        "\n",
        "        tf.keras.layers.Conv2D(128, 3, activation='relu', padding='SAME'), #cnn layer\n",
        "        tf.keras.layers.BatchNormalization(), #batch norm layer\n",
        "        tf.keras.layers.Conv2D(128, 3, activation='relu', padding='SAME'), #cnn layer\n",
        "        tf.keras.layers.BatchNormalization(), #batch norm layer\n",
        "        tf.keras.layers.Conv2D(128, 3, activation='relu', padding='SAME'), #cnn layer\n",
        "        tf.keras.layers.BatchNormalization(), #batch norm layer\n",
        "\n",
        "        tf.keras.layers.MaxPooling2D(pool_size=(2, 2)), #pooling layer\n",
        "        tf.keras.layers.Dropout(0.1),\n",
        "\n",
        "        tf.keras.layers.Conv2D(256, 3, activation='relu', padding='SAME'), #cnn layer\n",
        "        tf.keras.layers.BatchNormalization(), #batch norm layer\n",
        "        tf.keras.layers.Conv2D(256, 3, activation='relu', padding='SAME'), #cnn layer\n",
        "        tf.keras.layers.BatchNormalization(), #batch norm layer\n",
        "        tf.keras.layers.Conv2D(256, 3, activation='relu', padding='SAME'), #cnn layer\n",
        "        tf.keras.layers.BatchNormalization(), #batch norm layer\n",
        "        tf.keras.layers.Conv2D(256, 3, activation='relu', padding='SAME'), #cnn layer\n",
        "        tf.keras.layers.BatchNormalization(), #batch norm layer\n",
        "\n",
        "        tf.keras.layers.MaxPooling2D(pool_size=(2, 2)), #pooling layer\n",
        "        tf.keras.layers.Dropout(0.1),\n",
        "\n",
        "        tf.keras.layers.Flatten(),\n",
        "        \n",
        "        tf.keras.layers.Dense(64, activation='relu'),\n",
        "        tf.keras.layers.BatchNormalization(),\n",
        "        tf.keras.layers.Dropout(0.2),\n",
        "\n",
        "        tf.keras.layers.Dense(1) # ouput layer\n",
        "        ])\n",
        "\n",
        "    model.compile(optimizer='adam', loss='mean_squared_error',metrics=['mae'])\n",
        "    return model\n",
        "\n",
        "def main(x_npy_path, y_npy_path, model_save_path):\n",
        "    # Load data\n",
        "    X = np.load(x_npy_path)\n",
        "    y = np.load(y_npy_path)\n",
        "\n",
        "    # Split data into training and validation set\n",
        "    X_train, X_val, y_train, y_val = train_test_split(X, y, test_size=0.2, random_state=42)\n",
        "\n",
        "    # Create and train the model\n",
        "    model = create_model()\n",
        "    model.fit(X_train, y_train, epochs=3, batch_size=8, validation_data=(X_val, y_val), verbose=1)\n",
        "    loss = model.evaluate(X_val, y_val)\n",
        "    # print(f\"Test loss: {loss}\")\n",
        "    # Save the model\n",
        "    model.save(model_save_path)\n",
        "\n",
        "if __name__ == '__main__':\n",
        "    \"\"\"\n",
        "    import sys\n",
        "\n",
        "    if len(sys.argv) != 4:\n",
        "        print(\"Usage: python train.py [path_to_x.npy] [path_to_y.npy] [path_to_model.h5]\")\n",
        "        sys.exit(1)\n",
        "    \"\"\"\n",
        "    x_npy_path = 'data/datasets/x_train.npy'\n",
        "    y_npy_path = 'data/datasets/y_train.npy'\n",
        "    model_save_path = 'output'\n",
        "    main(x_npy_path, y_npy_path, model_save_path)"
      ]
    },
    {
      "cell_type": "code",
      "execution_count": 8,
      "metadata": {},
      "outputs": [],
      "source": [
        "import numpy as np\n",
        "import pandas as pd\n",
        "import sys\n",
        "from keras.models import load_model"
      ]
    },
    {
      "cell_type": "code",
      "execution_count": 9,
      "metadata": {},
      "outputs": [
        {
          "name": "stdout",
          "output_type": "stream",
          "text": [
            "179/179 [==============================] - 3s 16ms/step\n"
          ]
        }
      ],
      "source": [
        "def predict_and_save(model_path, x_test_path, y_pred_path):\n",
        "    # 모델 불러오기\n",
        "    model = load_model(model_path)\n",
        "\n",
        "    # x_test.npy 파일에서 데이터 로드\n",
        "    x_test = np.load(x_test_path)\n",
        "\n",
        "    # 예측 수행\n",
        "    y_pred = model.predict(x_test)\n",
        "\n",
        "    # 예측 결과를 y_pred.npy로 저장\n",
        "    np.save(y_pred_path, y_pred)\n",
        "\n",
        "if __name__ == \"__main__\":\n",
        "\n",
        "    \"\"\"\n",
        "    if len(sys.argv) != 4:\n",
        "        print(\"Usage: python3 model_inference.py <model_path> <x_test_path> <y_pred_path>\")\n",
        "        sys.exit(1)\n",
        "    \"\"\"\n",
        "    \n",
        "    model_path = 'output'   # 모델 파일 경로\n",
        "    x_test_path = 'data/datasets/x_test.npy'   # 테스트 데이터 파일 경로\n",
        "    y_pred_path = 'y_pred.npy'   # 예측 결과 저장 파일 경로\n",
        "\n",
        "    predict_and_save(model_path, x_test_path, y_pred_path)"
      ]
    },
    {
      "cell_type": "code",
      "execution_count": 10,
      "metadata": {},
      "outputs": [
        {
          "name": "stdout",
          "output_type": "stream",
          "text": [
            "Saved CSV to y_pred.csv\n"
          ]
        }
      ],
      "source": [
        "y_pred_npy_path = 'y_pred.npy'\n",
        "y_pred = np.load(y_pred_npy_path)\n",
        "\n",
        "# Convert the numpy array to a Pandas DataFrame\n",
        "y_pred_df = pd.DataFrame(y_pred)\n",
        "\n",
        "# Save the DataFrame to a CSV file\n",
        "y_pred_csv_path = y_pred_npy_path.replace('.npy', '.csv')\n",
        "y_pred_df.to_csv(y_pred_csv_path, index=False)\n",
        "\n",
        "# 저장된 .csv 파일의 경로를 출력합니다.\n",
        "print(f'Saved CSV to {y_pred_csv_path}')"
      ]
    }
  ],
  "metadata": {
    "accelerator": "GPU",
    "colab": {
      "gpuType": "T4",
      "provenance": []
    },
    "kernelspec": {
      "display_name": "Python 3",
      "name": "python3"
    },
    "language_info": {
      "codemirror_mode": {
        "name": "ipython",
        "version": 3
      },
      "file_extension": ".py",
      "mimetype": "text/x-python",
      "name": "python",
      "nbconvert_exporter": "python",
      "pygments_lexer": "ipython3",
      "version": "3.9.13"
    }
  },
  "nbformat": 4,
  "nbformat_minor": 0
}
