{
  "cells": [
    {
      "cell_type": "markdown",
      "metadata": {},
      "source": [
        "### 주파수 기반 누수음 감지"
      ]
    },
    {
      "cell_type": "markdown",
      "metadata": {},
      "source": [
        "<br>"
      ]
    },
    {
      "cell_type": "markdown",
      "metadata": {},
      "source": [
        "[상수관로 누수 감지 데이터](https://aihub.or.kr/aihubdata/data/view.do?currMenu=115&topMenu=100&aihubDataSe=realm&dataSetSn=138)\n",
        "<br>[주파수 기반 누수음 감지](https://aifactory.space/task/2662/overview)"
      ]
    },
    {
      "cell_type": "markdown",
      "metadata": {},
      "source": [
        "<br>"
      ]
    },
    {
      "cell_type": "code",
      "execution_count": null,
      "metadata": {},
      "outputs": [],
      "source": [
        "pip install xgboost"
      ]
    },
    {
      "cell_type": "code",
      "execution_count": null,
      "id": "985f4afe-751f-433f-a606-29743ccf06eb",
      "metadata": {
        "id": "985f4afe-751f-433f-a606-29743ccf06eb"
      },
      "outputs": [],
      "source": [
        "import pandas as pd\n",
        "from xgboost import XGBClassifier"
      ]
    },
    {
      "cell_type": "code",
      "execution_count": 9,
      "id": "92ccd685-a0ae-4020-80e3-059214ed8a10",
      "metadata": {
        "id": "92ccd685-a0ae-4020-80e3-059214ed8a10"
      },
      "outputs": [],
      "source": [
        "X_train = pd.read_csv('data/x_train.csv')\n",
        "y_train = pd.read_csv('data/y_train.csv')\n",
        "X_test = pd.read_csv('data/x_test.csv')\n",
        "\n",
        "sub = pd.read_csv('data/sample_submission.csv')"
      ]
    },
    {
      "cell_type": "code",
      "execution_count": 8,
      "id": "4f46f43c-c7a9-429a-9099-fd53646c1aa1",
      "metadata": {
        "id": "4f46f43c-c7a9-429a-9099-fd53646c1aa1",
        "outputId": "d02cbee9-4b99-454a-bfdc-d0ca5948e9b0"
      },
      "outputs": [
        {
          "data": {
            "text/plain": [
              "XGBClassifier(base_score=None, booster=None, callbacks=None,\n",
              "              colsample_bylevel=None, colsample_bynode=None,\n",
              "              colsample_bytree=None, device=None, early_stopping_rounds=None,\n",
              "              enable_categorical=False, eval_metric=None, feature_types=None,\n",
              "              gamma=None, grow_policy=None, importance_type=None,\n",
              "              interaction_constraints=None, learning_rate=None, max_bin=None,\n",
              "              max_cat_threshold=None, max_cat_to_onehot=None,\n",
              "              max_delta_step=None, max_depth=None, max_leaves=None,\n",
              "              min_child_weight=None, missing=nan, monotone_constraints=None,\n",
              "              multi_strategy=None, n_estimators=None, n_jobs=None,\n",
              "              num_parallel_tree=None, objective='multi:softprob', ...)"
            ]
          },
          "execution_count": 8,
          "metadata": {},
          "output_type": "execute_result"
        }
      ],
      "source": [
        "model = XGBClassifier()\n",
        "model.fit(X_train, y_train)"
      ]
    },
    {
      "cell_type": "code",
      "execution_count": 10,
      "id": "43bb1427-10ac-452e-b614-77b85994ea0b",
      "metadata": {
        "id": "43bb1427-10ac-452e-b614-77b85994ea0b",
        "outputId": "d02f72f1-f172-4c55-ef0d-c5b323d2a990",
        "scrolled": true
      },
      "outputs": [],
      "source": [
        "pred = model.predict(X_test)"
      ]
    },
    {
      "cell_type": "code",
      "execution_count": 11,
      "id": "f270327e-e34d-4164-8187-5291ebf7da39",
      "metadata": {
        "id": "f270327e-e34d-4164-8187-5291ebf7da39",
        "scrolled": true
      },
      "outputs": [],
      "source": [
        "sub['leaktype'] = pred"
      ]
    },
    {
      "cell_type": "code",
      "execution_count": 13,
      "metadata": {},
      "outputs": [
        {
          "data": {
            "text/plain": [
              "array([4, 0, 4, ..., 4, 3, 3])"
            ]
          },
          "execution_count": 13,
          "metadata": {},
          "output_type": "execute_result"
        }
      ],
      "source": [
        "pred"
      ]
    },
    {
      "cell_type": "code",
      "execution_count": 12,
      "id": "8091d866-9c79-458f-b269-4a594960cc87",
      "metadata": {
        "id": "8091d866-9c79-458f-b269-4a594960cc87"
      },
      "outputs": [],
      "source": [
        "sub.to_csv('./baseline1.csv')"
      ]
    }
  ],
  "metadata": {
    "colab": {
      "provenance": []
    },
    "kernelspec": {
      "display_name": "Python 3 (ipykernel)",
      "language": "python",
      "name": "python3"
    },
    "language_info": {
      "codemirror_mode": {
        "name": "ipython",
        "version": 3
      },
      "file_extension": ".py",
      "mimetype": "text/x-python",
      "name": "python",
      "nbconvert_exporter": "python",
      "pygments_lexer": "ipython3",
      "version": "3.9.13"
    }
  },
  "nbformat": 4,
  "nbformat_minor": 5
}
