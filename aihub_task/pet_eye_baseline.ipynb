{
  "cells": [
    {
      "cell_type": "code",
      "execution_count": 2,
      "metadata": {
        "id": "Vo8oD-v2Mbp5"
      },
      "outputs": [
        {
          "name": "stderr",
          "output_type": "stream",
          "text": [
            "2023-12-07 09:45:38.588496: E tensorflow/stream_executor/cuda/cuda_driver.cc:265] failed call to cuInit: CUDA_ERROR_NO_DEVICE: no CUDA-capable device is detected\n",
            "2023-12-07 09:45:38.588538: I tensorflow/stream_executor/cuda/cuda_diagnostics.cc:169] retrieving CUDA diagnostic information for host: 4b61168be40f\n",
            "2023-12-07 09:45:38.588546: I tensorflow/stream_executor/cuda/cuda_diagnostics.cc:176] hostname: 4b61168be40f\n",
            "2023-12-07 09:45:38.588756: I tensorflow/stream_executor/cuda/cuda_diagnostics.cc:200] libcuda reported version is: 535.129.3\n",
            "2023-12-07 09:45:38.588781: I tensorflow/stream_executor/cuda/cuda_diagnostics.cc:204] kernel reported version is: 535.129.3\n",
            "2023-12-07 09:45:38.588787: I tensorflow/stream_executor/cuda/cuda_diagnostics.cc:310] kernel version seems to match DSO: 535.129.3\n",
            "2023-12-07 09:45:38.589091: I tensorflow/core/platform/cpu_feature_guard.cc:193] This TensorFlow binary is optimized with oneAPI Deep Neural Network Library (oneDNN) to use the following CPU instructions in performance-critical operations:  AVX2 AVX512F FMA\n",
            "To enable them in other operations, rebuild TensorFlow with the appropriate compiler flags.\n"
          ]
        },
        {
          "name": "stdout",
          "output_type": "stream",
          "text": [
            "Epoch 1/5\n",
            "344/344 [==============================] - 371s 1s/step - loss: 3.0881 - accuracy: 0.4960\n",
            "Epoch 2/5\n",
            "344/344 [==============================] - 371s 1s/step - loss: 0.8928 - accuracy: 0.5459\n",
            "Epoch 3/5\n",
            "344/344 [==============================] - 372s 1s/step - loss: 0.8317 - accuracy: 0.5794\n",
            "Epoch 4/5\n",
            "344/344 [==============================] - 370s 1s/step - loss: 0.7926 - accuracy: 0.6053\n",
            "Epoch 5/5\n",
            "344/344 [==============================] - 371s 1s/step - loss: 0.8044 - accuracy: 0.6198\n"
          ]
        }
      ],
      "source": [
        "import numpy as np\n",
        "import sys\n",
        "from tensorflow.keras.models import Sequential\n",
        "from tensorflow.keras.layers import Dense, Flatten\n",
        "from tensorflow.keras.utils import to_categorical\n",
        "from PIL import Image\n",
        "import os\n",
        "import numpy as np\n",
        "import tensorflow as tf\n",
        "from tensorflow.keras.models import Sequential\n",
        "from tensorflow.keras.layers import Conv2D, MaxPooling2D, Flatten, Dense, Dropout\n",
        "from tensorflow.keras.utils import to_categorical\n",
        "from tensorflow.keras.optimizers import Adam\n",
        "\n",
        "from sklearn.preprocessing import LabelEncoder\n",
        "from sklearn.model_selection import train_test_split\n",
        "\n",
        "x_train_path = 'baseline/dataset/x_train.npy'\n",
        "y_train_path = 'baseline/dataset/y_train.npy'\n",
        "model_save_path = 'cataract_model.h5'\n",
        "\n",
        "x_train = np.load(x_train_path)\n",
        "y_train = np.load(y_train_path)\n",
        "\n",
        "# 데이터셋 크기 설정\n",
        "image_shape = (224, 224) # 이미지 크기 (224x224)\n",
        "\n",
        "#class setting\n",
        "num_classes = 4 # 클래스 수에 따라 설정\n",
        "x_train = x_train.reshape(-1, 224, 224, 1)\n",
        "\n",
        "# 모델 정의\n",
        "model = Sequential([\n",
        "Conv2D(32, (3, 3), activation='relu', input_shape=(224, 224, 1)),\n",
        "MaxPooling2D((2, 2)),\n",
        "Conv2D(64, (3, 3), activation='relu'),\n",
        "MaxPooling2D((2, 2)),\n",
        "Conv2D(128, (3, 3), activation='relu'),\n",
        "MaxPooling2D((2, 2)),\n",
        "Flatten(),\n",
        "Dense(128, activation='relu'),\n",
        "Dropout(0.5), \n",
        "Dense(num_classes, activation='softmax')\n",
        "])\n",
        "\n",
        "model.compile(optimizer='adam',\n",
        "loss='categorical_crossentropy', # 다중 클래스 분류 문제\n",
        "metrics=['accuracy'])\n",
        "\n",
        "epochs = 5\n",
        "batch_size = 64\n",
        "model.fit(x_train, y_train, epochs=epochs, batch_size=batch_size)\n",
        "\n",
        "model.save(model_save_path)"
      ]
    },
    {
      "cell_type": "code",
      "execution_count": 3,
      "metadata": {
        "id": "EFSIc9SLMlIS"
      },
      "outputs": [
        {
          "name": "stdout",
          "output_type": "stream",
          "text": [
            "172/172 [==============================] - 15s 84ms/step\n"
          ]
        }
      ],
      "source": [
        "import numpy as np\n",
        "import sys\n",
        "from tensorflow.keras.models import load_model\n",
        "from tensorflow.keras.utils import to_categorical\n",
        "\n",
        "model_path = 'cataract_model.h5'\n",
        "x_test_path = 'baseline/dataset/x_test.npy'\n",
        "y_pred_save_path = 'y_pred.npy'\n",
        "\n",
        "model = load_model(model_path)\n",
        "x_test = np.load(x_test_path)\n",
        "\n",
        "y_pred = model.predict(x_test)\n",
        "y_pred_labels = np.argmax(y_pred, axis=1)\n",
        "y_pred_onehot = to_categorical(y_pred_labels)\n",
        "\n",
        "np.save(y_pred_save_path, y_pred_onehot)"
      ]
    }
  ],
  "metadata": {
    "accelerator": "GPU",
    "colab": {
      "gpuType": "T4",
      "provenance": []
    },
    "kernelspec": {
      "display_name": "Python 3",
      "name": "python3"
    },
    "language_info": {
      "codemirror_mode": {
        "name": "ipython",
        "version": 3
      },
      "file_extension": ".py",
      "mimetype": "text/x-python",
      "name": "python",
      "nbconvert_exporter": "python",
      "pygments_lexer": "ipython3",
      "version": "3.9.13"
    }
  },
  "nbformat": 4,
  "nbformat_minor": 0
}
