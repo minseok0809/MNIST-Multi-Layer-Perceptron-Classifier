{
  "cells": [
    {
      "cell_type": "markdown",
      "metadata": {
        "id": "eh2Trxr4a7en"
      },
      "source": [
        "Training"
      ]
    },
    {
      "cell_type": "code",
      "execution_count": null,
      "metadata": {},
      "outputs": [],
      "source": [
        "!pip install tensorflow==2.10.0"
      ]
    },
    {
      "cell_type": "code",
      "execution_count": 1,
      "metadata": {},
      "outputs": [
        {
          "name": "stderr",
          "output_type": "stream",
          "text": [
            "2023-12-07 08:54:14.328575: I tensorflow/core/platform/cpu_feature_guard.cc:193] This TensorFlow binary is optimized with oneAPI Deep Neural Network Library (oneDNN) to use the following CPU instructions in performance-critical operations:  AVX2 AVX512F FMA\n",
            "To enable them in other operations, rebuild TensorFlow with the appropriate compiler flags.\n",
            "2023-12-07 08:54:14.469846: E tensorflow/stream_executor/cuda/cuda_blas.cc:2981] Unable to register cuBLAS factory: Attempting to register factory for plugin cuBLAS when one has already been registered\n",
            "2023-12-07 08:54:15.036552: W tensorflow/stream_executor/platform/default/dso_loader.cc:64] Could not load dynamic library 'libnvinfer.so.7'; dlerror: libnvinfer.so.7: cannot open shared object file: No such file or directory; LD_LIBRARY_PATH: /usr/local/nvidia/lib:/usr/local/nvidia/lib64\n",
            "2023-12-07 08:54:15.036613: W tensorflow/stream_executor/platform/default/dso_loader.cc:64] Could not load dynamic library 'libnvinfer_plugin.so.7'; dlerror: libnvinfer_plugin.so.7: cannot open shared object file: No such file or directory; LD_LIBRARY_PATH: /usr/local/nvidia/lib:/usr/local/nvidia/lib64\n",
            "2023-12-07 08:54:15.036619: W tensorflow/compiler/tf2tensorrt/utils/py_utils.cc:38] TF-TRT Warning: Cannot dlopen some TensorRT libraries. If you would like to use Nvidia GPU with TensorRT, please make sure the missing libraries mentioned above are installed properly.\n"
          ]
        },
        {
          "name": "stdout",
          "output_type": "stream",
          "text": [
            "Teansorflow: 2.10.0\n",
            "\n",
            "True\n",
            "\n",
            "Num GPUs Available:  0\n",
            "\n",
            "\n",
            "\n",
            "[name: \"/device:CPU:0\"\n",
            "device_type: \"CPU\"\n",
            "memory_limit: 268435456\n",
            "locality {\n",
            "}\n",
            "incarnation: 6311327155250453516\n",
            "xla_global_id: -1\n",
            "]\n"
          ]
        },
        {
          "name": "stderr",
          "output_type": "stream",
          "text": [
            "2023-12-07 08:54:16.032091: E tensorflow/stream_executor/cuda/cuda_driver.cc:265] failed call to cuInit: CUDA_ERROR_NO_DEVICE: no CUDA-capable device is detected\n",
            "2023-12-07 08:54:16.032116: I tensorflow/stream_executor/cuda/cuda_diagnostics.cc:169] retrieving CUDA diagnostic information for host: 4b61168be40f\n",
            "2023-12-07 08:54:16.032121: I tensorflow/stream_executor/cuda/cuda_diagnostics.cc:176] hostname: 4b61168be40f\n",
            "2023-12-07 08:54:16.032192: I tensorflow/stream_executor/cuda/cuda_diagnostics.cc:200] libcuda reported version is: 535.129.3\n",
            "2023-12-07 08:54:16.032208: I tensorflow/stream_executor/cuda/cuda_diagnostics.cc:204] kernel reported version is: 535.129.3\n",
            "2023-12-07 08:54:16.032213: I tensorflow/stream_executor/cuda/cuda_diagnostics.cc:310] kernel version seems to match DSO: 535.129.3\n",
            "2023-12-07 08:54:16.032413: I tensorflow/core/platform/cpu_feature_guard.cc:193] This TensorFlow binary is optimized with oneAPI Deep Neural Network Library (oneDNN) to use the following CPU instructions in performance-critical operations:  AVX2 AVX512F FMA\n",
            "To enable them in other operations, rebuild TensorFlow with the appropriate compiler flags.\n"
          ]
        }
      ],
      "source": [
        "import os\n",
        "import tensorflow as tf\n",
        "from tensorflow.python.client import device_lib\n",
        "\n",
        "print(\"Teansorflow:\", tf.__version__)\n",
        "print()\n",
        "print(tf.test.is_built_with_cuda())\n",
        "print()\n",
        "print(\"Num GPUs Available: \", len(tf.config.list_physical_devices('GPU')))\n",
        "print()\n",
        "print(tf.test.gpu_device_name())\n",
        "print()\n",
        "print(device_lib.list_local_devices())"
      ]
    },
    {
      "cell_type": "code",
      "execution_count": 3,
      "metadata": {
        "colab": {
          "base_uri": "https://localhost:8080/"
        },
        "id": "w0151aG3bBIs",
        "outputId": "d703b99f-227d-4075-93ed-dc207367ddab"
      },
      "outputs": [
        {
          "name": "stdout",
          "output_type": "stream",
          "text": [
            "Epoch 1/6\n",
            "24/24 [==============================] - 142s 6s/step - loss: 25.0480 - accuracy: 0.3572\n",
            "Epoch 2/6\n",
            "24/24 [==============================] - 141s 6s/step - loss: 7.8364 - accuracy: 0.4236\n",
            "Epoch 3/6\n",
            "24/24 [==============================] - 141s 6s/step - loss: 8.9988 - accuracy: 0.4117\n",
            "Epoch 4/6\n",
            "24/24 [==============================] - 141s 6s/step - loss: 3.5812 - accuracy: 0.4077\n",
            "Epoch 5/6\n",
            "24/24 [==============================] - 142s 6s/step - loss: 3.0753 - accuracy: 0.4223\n",
            "Epoch 6/6\n",
            "24/24 [==============================] - 142s 6s/step - loss: 1.2436 - accuracy: 0.4183\n"
          ]
        }
      ],
      "source": [
        "import numpy as np\n",
        "import tensorflow as tf\n",
        "from tensorflow.keras.models import Sequential\n",
        "from tensorflow.keras.layers import Conv2D, MaxPooling2D, Flatten, Dense, Softmax, GlobalAveragePooling2D\n",
        "from tensorflow.keras.losses import SparseCategoricalCrossentropy\n",
        "from tensorflow.keras.optimizers import Adam\n",
        "\n",
        "data_folder = \"data\"  \n",
        "\n",
        "data_train = np.load(f'{data_folder}/x_train.npy')\n",
        "labels_train = np.load(f'{data_folder}/y_train.npy', allow_pickle=True)\n",
        "\n",
        "class_num = len(np.unique(labels_train))\n",
        "\n",
        "\n",
        "model = Sequential([\n",
        "    Conv2D(64, (3,3), strides=2, padding='same', input_shape=(None,None,1)),\n",
        "    Conv2D(64,(3 , 3) , strides=1 , padding='same'),\n",
        "    MaxPooling2D(pool_size=(3 , 3) , strides=2 , padding='same'),\n",
        "    Conv2D(128,(3 , 3) , strides=2,padding='same'),\n",
        "    Conv2D(128,(3 , 3) , strides=1,padding='same'),\n",
        "    GlobalAveragePooling2D(),\n",
        "    Dense(class_num),\n",
        "    Softmax()\n",
        "])\n",
        "\n",
        "model.compile(loss=SparseCategoricalCrossentropy(), optimizer=Adam(), metrics=['accuracy'])\n",
        "\n",
        "num_epochs= 6  \n",
        "\n",
        "history=model.fit(data_train, labels_train, epochs=num_epochs, verbose=1)\n",
        "\n",
        "model.save(f'{data_folder}/model.h5')\n"
      ]
    },
    {
      "cell_type": "markdown",
      "metadata": {
        "id": "H2-k8BsMbYhS"
      },
      "source": [
        "Test"
      ]
    },
    {
      "cell_type": "code",
      "execution_count": 5,
      "metadata": {
        "colab": {
          "base_uri": "https://localhost:8080/"
        },
        "id": "Zr6DEW8Jbazn",
        "outputId": "c261bd65-a3b8-4cc6-ab6c-a0ce4b6df3e1"
      },
      "outputs": [
        {
          "name": "stdout",
          "output_type": "stream",
          "text": [
            "6/6 [==============================] - 5s 734ms/step\n"
          ]
        }
      ],
      "source": [
        "import numpy as np\n",
        "from tensorflow.keras.models import load_model\n",
        "\n",
        "data_folder = \"data\" \n",
        "data_test = np.load(f'{data_folder}/x_test.npy')\n",
        "model = load_model(f'{data_folder}/model.h5')\n",
        "\n",
        "labels_test_pred = model.predict(data_test)\n",
        "\n",
        "np.save(f'{data_folder}/y_test_pred.npy', labels_test_pred)"
      ]
    }
  ],
  "metadata": {
    "accelerator": "GPU",
    "colab": {
      "gpuType": "T4",
      "provenance": []
    },
    "kernelspec": {
      "display_name": "Python 3",
      "name": "python3"
    },
    "language_info": {
      "codemirror_mode": {
        "name": "ipython",
        "version": 3
      },
      "file_extension": ".py",
      "mimetype": "text/x-python",
      "name": "python",
      "nbconvert_exporter": "python",
      "pygments_lexer": "ipython3",
      "version": "3.9.13"
    }
  },
  "nbformat": 4,
  "nbformat_minor": 0
}
