{
  "cells": [
    {
      "cell_type": "markdown",
      "metadata": {},
      "source": [
        "### 불법주정차량 시간대와 종류 자동식별"
      ]
    },
    {
      "cell_type": "markdown",
      "metadata": {},
      "source": [
        "<br>"
      ]
    },
    {
      "cell_type": "markdown",
      "metadata": {},
      "source": [
        "[종합 민원 이미지 AI데이터](https://www.aihub.or.kr/aihubdata/data/view.do?currMenu=115&topMenu=100&aihubDataSe=realm&dataSetSn=492)\n",
        "<br>[불법주정차량 시간대와 종류 자동식별](https://aifactory.space/task/2665/overview)"
      ]
    },
    {
      "cell_type": "markdown",
      "metadata": {},
      "source": [
        "<br>"
      ]
    },
    {
      "cell_type": "code",
      "execution_count": 2,
      "metadata": {},
      "outputs": [
        {
          "name": "stderr",
          "output_type": "stream",
          "text": [
            "2023-11-13 06:57:50.425752: E tensorflow/compiler/xla/stream_executor/cuda/cuda_dnn.cc:9342] Unable to register cuDNN factory: Attempting to register factory for plugin cuDNN when one has already been registered\n",
            "2023-11-13 06:57:50.425785: E tensorflow/compiler/xla/stream_executor/cuda/cuda_fft.cc:609] Unable to register cuFFT factory: Attempting to register factory for plugin cuFFT when one has already been registered\n",
            "2023-11-13 06:57:50.425808: E tensorflow/compiler/xla/stream_executor/cuda/cuda_blas.cc:1518] Unable to register cuBLAS factory: Attempting to register factory for plugin cuBLAS when one has already been registered\n",
            "2023-11-13 06:57:50.433089: I tensorflow/core/platform/cpu_feature_guard.cc:182] This TensorFlow binary is optimized to use available CPU instructions in performance-critical operations.\n",
            "To enable the following instructions: AVX2 AVX512F FMA, in other operations, rebuild TensorFlow with the appropriate compiler flags.\n",
            "2023-11-13 06:57:51.152718: W tensorflow/compiler/tf2tensorrt/utils/py_utils.cc:38] TF-TRT Warning: Could not find TensorRT\n"
          ]
        }
      ],
      "source": [
        "import numpy as np\n",
        "import sys\n",
        "from tensorflow import keras\n",
        "from tensorflow.keras import layers\n",
        "from tensorflow.keras.utils import to_categorical\n",
        "import pandas as pd"
      ]
    },
    {
      "cell_type": "code",
      "execution_count": 5,
      "metadata": {},
      "outputs": [
        {
          "name": "stdout",
          "output_type": "stream",
          "text": [
            "Epoch 1/20\n",
            "118/118 [==============================] - 1s 5ms/step - loss: 110.1942 - accuracy: 0.2598\n",
            "Epoch 2/20\n",
            "118/118 [==============================] - 1s 5ms/step - loss: 1.3417 - accuracy: 0.3493\n",
            "Epoch 3/20\n",
            "118/118 [==============================] - 1s 5ms/step - loss: 1.1425 - accuracy: 0.4425\n",
            "Epoch 4/20\n",
            "118/118 [==============================] - 1s 5ms/step - loss: 0.9623 - accuracy: 0.5450\n",
            "Epoch 5/20\n",
            "118/118 [==============================] - 1s 5ms/step - loss: 0.8463 - accuracy: 0.6181\n",
            "Epoch 6/20\n",
            "118/118 [==============================] - 1s 5ms/step - loss: 0.7903 - accuracy: 0.6457\n",
            "Epoch 7/20\n",
            "118/118 [==============================] - 1s 6ms/step - loss: 0.7323 - accuracy: 0.6778\n",
            "Epoch 8/20\n",
            "118/118 [==============================] - 1s 5ms/step - loss: 0.6306 - accuracy: 0.7211\n",
            "Epoch 9/20\n",
            "118/118 [==============================] - 1s 5ms/step - loss: 0.5977 - accuracy: 0.7461\n",
            "Epoch 10/20\n",
            "118/118 [==============================] - 1s 5ms/step - loss: 0.5920 - accuracy: 0.7578\n",
            "Epoch 11/20\n",
            "118/118 [==============================] - 1s 5ms/step - loss: 0.5404 - accuracy: 0.7745\n",
            "Epoch 12/20\n",
            "118/118 [==============================] - 1s 5ms/step - loss: 0.5122 - accuracy: 0.7841\n",
            "Epoch 13/20\n",
            "118/118 [==============================] - 1s 5ms/step - loss: 0.4918 - accuracy: 0.7984\n",
            "Epoch 14/20\n",
            "118/118 [==============================] - 1s 5ms/step - loss: 0.4877 - accuracy: 0.8072\n",
            "Epoch 15/20\n",
            "118/118 [==============================] - 1s 5ms/step - loss: 0.4497 - accuracy: 0.8130\n",
            "Epoch 16/20\n",
            "118/118 [==============================] - 1s 5ms/step - loss: 0.4744 - accuracy: 0.8127\n",
            "Epoch 17/20\n",
            "118/118 [==============================] - 1s 5ms/step - loss: 0.4645 - accuracy: 0.8191\n",
            "Epoch 18/20\n",
            "118/118 [==============================] - 1s 5ms/step - loss: 0.4214 - accuracy: 0.8340\n",
            "Epoch 19/20\n",
            "118/118 [==============================] - 1s 6ms/step - loss: 0.3626 - accuracy: 0.8465\n",
            "Epoch 20/20\n",
            "118/118 [==============================] - 1s 5ms/step - loss: 0.3199 - accuracy: 0.8643\n",
            "INFO:tensorflow:Assets written to: output/assets\n"
          ]
        },
        {
          "name": "stderr",
          "output_type": "stream",
          "text": [
            "INFO:tensorflow:Assets written to: output/assets\n"
          ]
        }
      ],
      "source": [
        "img_size = (64, 64)\n",
        "\n",
        "x_train_path = 'data/data/x_train.npy'\n",
        "y_train_path = 'data/data/y_train.npy'\n",
        "model_save_path = 'output'\n",
        "\n",
        "x_train = np.load(x_train_path)\n",
        "y_train = np.load(y_train_path)\n",
        "y_train = to_categorical(y_train)  # 원-핫 인코딩\n",
        "\n",
        "\"\"\"\n",
        "# 모델 구축\n",
        "model = keras.Sequential([\n",
        "    layers.InputLayer(input_shape=(img_size[0], img_size[1], 3)),\n",
        "    layers.Conv2D(64, 3, activation=\"relu\"),\n",
        "    layers.MaxPooling2D(pool_size=(2, 2)),\n",
        "    layers.Flatten(),\n",
        "    layers.Dense(4, activation=\"softmax\")  # 4개의 클래스에 대응하는 출력 뉴런\n",
        "])\n",
        "\"\"\"\n",
        "model = keras.models.Sequential([\n",
        "    layers.InputLayer(input_shape=(img_size[0], img_size[1], 3)),\n",
        "    keras.layers.Conv2D(64, 3, activation='relu', padding='SAME'), #cnn layer\n",
        "    keras.layers.BatchNormalization(), #batch norm layer\n",
        "    keras.layers.Conv2D(64, 3, activation='relu', padding='SAME'), #cnn layer\n",
        "    keras.layers.BatchNormalization(), #batch norm layer\n",
        "    keras.layers.Conv2D(64, 3, activation='relu', padding='SAME'), #cnn layer\n",
        "    keras.layers.BatchNormalization(), #batch norm layer\n",
        "    \n",
        "    keras.layers.MaxPooling2D(pool_size=(2, 2)), #pooling layer\n",
        "    keras.layers.Dropout(0.25),\n",
        "\n",
        "    keras.layers.Conv2D(128, 3, activation='relu', padding='SAME'), #cnn layer\n",
        "    keras.layers.BatchNormalization(), #batch norm layer\n",
        "    keras.layers.Conv2D(128, 3, activation='relu', padding='SAME'), #cnn layer\n",
        "    keras.layers.BatchNormalization(), #batch norm layer\n",
        "    keras.layers.Conv2D(128, 3, activation='relu', padding='SAME'), #cnn layer\n",
        "    keras.layers.BatchNormalization(), #batch norm layer\n",
        "\n",
        "    keras.layers.MaxPooling2D(pool_size=(2, 2)), #pooling layer\n",
        "    keras.layers.Dropout(0.25),\n",
        "\n",
        "    keras.layers.Conv2D(256, 3, activation='relu', padding='SAME'), #cnn layer\n",
        "    keras.layers.BatchNormalization(), #batch norm layer\n",
        "    keras.layers.Conv2D(256, 3, activation='relu', padding='SAME'), #cnn layer\n",
        "    keras.layers.BatchNormalization(), #batch norm layer\n",
        "    keras.layers.Conv2D(256, 3, activation='relu', padding='SAME'), #cnn layer\n",
        "    keras.layers.BatchNormalization(), #batch norm layer\n",
        "    keras.layers.Conv2D(256, 3, activation='relu', padding='SAME'), #cnn layer\n",
        "    keras.layers.BatchNormalization(), #batch norm layer\n",
        "\n",
        "    keras.layers.MaxPooling2D(pool_size=(2, 2)), #pooling layer\n",
        "    keras.layers.Dropout(0.25),\n",
        "\n",
        "    keras.layers.Flatten(),\n",
        "    \n",
        "    keras.layers.Dense(512, activation=\"relu\"),\n",
        "    keras.layers.BatchNormalization(),\n",
        "    keras.layers.Dropout(0.5),\n",
        "\n",
        "    keras.layers.Dense(4, activation = 'sigmoid') # ouput layer\n",
        "    ])\n",
        "\n",
        "# Optimizer 설정\n",
        "optimizer = keras.optimizers.Adam(learning_rate=0.001)\n",
        "\n",
        "model.compile(optimizer=optimizer, loss='categorical_crossentropy', metrics=['accuracy'])\n",
        "model.fit(x_train, y_train, epochs=20, batch_size=32)\n",
        "\n",
        "model.save(model_save_path)"
      ]
    },
    {
      "cell_type": "code",
      "execution_count": 6,
      "metadata": {},
      "outputs": [],
      "source": [
        "import numpy as np\n",
        "import sys\n",
        "from tensorflow.keras.models import load_model\n",
        "import pandas as pd"
      ]
    },
    {
      "cell_type": "code",
      "execution_count": 7,
      "metadata": {},
      "outputs": [
        {
          "name": "stdout",
          "output_type": "stream",
          "text": [
            "52/52 [==============================] - 0s 3ms/step\n"
          ]
        }
      ],
      "source": [
        "model_path = 'output'\n",
        "x_test_path = 'data/data/x_test.npy'\n",
        "y_pred_save_path = 'y_pred.npy'\n",
        "\n",
        "model = load_model(model_path)\n",
        "x_test = np.load(x_test_path)\n",
        "\n",
        "y_pred = model.predict(x_test)\n",
        "y_pred_labels = np.argmax(y_pred, axis=1)\n",
        "\n",
        "np.save(y_pred_save_path, y_pred_labels)"
      ]
    }
  ],
  "metadata": {
    "accelerator": "GPU",
    "colab": {
      "gpuType": "T4",
      "provenance": []
    },
    "kernelspec": {
      "display_name": "Python 3",
      "name": "python3"
    },
    "language_info": {
      "codemirror_mode": {
        "name": "ipython",
        "version": 3
      },
      "file_extension": ".py",
      "mimetype": "text/x-python",
      "name": "python",
      "nbconvert_exporter": "python",
      "pygments_lexer": "ipython3",
      "version": "3.9.13"
    }
  },
  "nbformat": 4,
  "nbformat_minor": 0
}
