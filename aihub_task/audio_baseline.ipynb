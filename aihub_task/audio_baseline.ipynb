{
  "cells": [
    {
      "cell_type": "markdown",
      "metadata": {},
      "source": [
        "### 음성데이터 기반 도시 소음 분류"
      ]
    },
    {
      "cell_type": "markdown",
      "metadata": {},
      "source": [
        "<br>"
      ]
    },
    {
      "cell_type": "markdown",
      "metadata": {},
      "source": [
        "[도시 소리 데이터](https://www.aihub.or.kr/aihubdata/data/view.do?currMenu=&topMenu=&aihubDataSe=realm&dataSetSn=585)\n",
        "<br>[음성데이터 기반 도시 소음 분류](https://aifactory.space/task/2647/overview)"
      ]
    },
    {
      "cell_type": "markdown",
      "metadata": {},
      "source": [
        "<br>"
      ]
    },
    {
      "cell_type": "code",
      "execution_count": 3,
      "metadata": {},
      "outputs": [],
      "source": [
        "import pandas as pd\n",
        "import numpy as np\n",
        "from keras.utils import to_categorical\n",
        "from keras.models import Sequential\n",
        "from keras.layers import Dense, Dropout, Flatten, Conv1D, MaxPooling1D\n",
        "from keras.optimizers import Adam\n",
        "from sklearn.model_selection import train_test_split\n",
        "from sklearn.preprocessing import LabelEncoder\n",
        "from scipy.io import wavfile\n",
        "import sys"
      ]
    },
    {
      "cell_type": "code",
      "execution_count": 6,
      "metadata": {},
      "outputs": [
        {
          "name": "stdout",
          "output_type": "stream",
          "text": [
            "Defining model\n",
            "Training the model\n",
            "Epoch 1/10\n",
            "22/22 [==============================] - 2s 56ms/step - loss: 3.2397 - accuracy: 0.4429\n",
            "Epoch 2/10\n",
            "22/22 [==============================] - 1s 55ms/step - loss: 1.0498 - accuracy: 0.5000\n",
            "Epoch 3/10\n",
            "22/22 [==============================] - 1s 56ms/step - loss: 0.9483 - accuracy: 0.4686\n",
            "Epoch 4/10\n",
            "22/22 [==============================] - 1s 55ms/step - loss: 0.8876 - accuracy: 0.5486\n",
            "Epoch 5/10\n",
            "22/22 [==============================] - 1s 56ms/step - loss: 0.8008 - accuracy: 0.6429\n",
            "Epoch 6/10\n",
            "22/22 [==============================] - 1s 56ms/step - loss: 0.7189 - accuracy: 0.7029\n",
            "Epoch 7/10\n",
            "22/22 [==============================] - 1s 56ms/step - loss: 0.5197 - accuracy: 0.7929\n",
            "Epoch 8/10\n",
            "22/22 [==============================] - 1s 55ms/step - loss: 0.4005 - accuracy: 0.8286\n",
            "Epoch 9/10\n",
            "22/22 [==============================] - 1s 56ms/step - loss: 0.2494 - accuracy: 0.9214\n",
            "Epoch 10/10\n",
            "22/22 [==============================] - 1s 56ms/step - loss: 0.2359 - accuracy: 0.9129\n",
            "INFO:tensorflow:Assets written to: output/assets\n"
          ]
        },
        {
          "name": "stderr",
          "output_type": "stream",
          "text": [
            "INFO:tensorflow:Assets written to: output/assets\n"
          ]
        }
      ],
      "source": [
        "x_train_path = 'data/x_train.npy'\n",
        "y_train_path = 'data/y_train.npy'\n",
        "x_test_path = 'data/x_test.npy'\n",
        "model_save_path = 'output'\n",
        "\n",
        "x_train = np.load(x_train_path)\n",
        "y_train = np.load(y_train_path)\n",
        "\n",
        "#y_train = to_categorical(y_train)\n",
        "# Model definition\n",
        "\n",
        "num_labels = 3\n",
        "sample_rate = 44100\n",
        "\n",
        "print(\"Defining model\")\n",
        "input_shape = (sample_rate, 1)\n",
        "model = Sequential()\n",
        "model.add(Conv1D(64, 5, padding='same', input_shape=input_shape, activation='relu'))\n",
        "model.add(MaxPooling1D(pool_size=2))\n",
        "model.add(Dropout(0.2))\n",
        "model.add(Conv1D(128, 5, padding='same', activation='relu'))\n",
        "model.add(MaxPooling1D(pool_size=2))\n",
        "model.add(Dropout(0.2))\n",
        "model.add(Flatten())\n",
        "model.add(Dense(128, activation='relu'))\n",
        "model.add(Dropout(0.5))\n",
        "model.add(Dense(num_labels, activation='softmax'))\n",
        "\n",
        "# Compile the model\n",
        "model.compile(loss='categorical_crossentropy', metrics=['accuracy'], optimizer='adam')\n",
        "\n",
        "# Train the model\n",
        "batch_size = 32\n",
        "epoch = 10\n",
        "\n",
        "print(\"Training the model\")\n",
        "history = model.fit(\n",
        "    x_train, y_train,\n",
        "    batch_size=batch_size,\n",
        "    epochs=epoch,\n",
        "    shuffle=True\n",
        ")\n",
        "\n",
        "# Optionally, save the trained model\n",
        "model.save(model_save_path)\n"
      ]
    },
    {
      "cell_type": "code",
      "execution_count": 7,
      "metadata": {},
      "outputs": [],
      "source": [
        "import numpy as np\n",
        "import sys\n",
        "from tensorflow.keras.models import load_model"
      ]
    },
    {
      "cell_type": "code",
      "execution_count": 8,
      "metadata": {},
      "outputs": [
        {
          "name": "stdout",
          "output_type": "stream",
          "text": [
            "6/6 [==============================] - 0s 36ms/step\n"
          ]
        }
      ],
      "source": [
        "def one_hot_encode(labels, num_classes=3):\n",
        "    return np.eye(num_classes)[labels]\n",
        "\n",
        "model_path = 'output'\n",
        "x_test_path = 'data/x_test.npy'\n",
        "y_pred_save_path = 'y_pred.npy'\n",
        "\n",
        "model = load_model(model_path)\n",
        "x_test = np.load(x_test_path)\n",
        "\n",
        "y_pred = model.predict(x_test)\n",
        "y_pred_labels = np.argmax(y_pred, axis=1)\n",
        "y_rand_pred_one_hot = one_hot_encode(y_pred_labels)\n",
        "\n",
        "np.save(y_pred_save_path, y_rand_pred_one_hot)"
      ]
    }
  ],
  "metadata": {
    "accelerator": "GPU",
    "colab": {
      "provenance": []
    },
    "kernelspec": {
      "display_name": "Python 3",
      "name": "python3"
    },
    "language_info": {
      "codemirror_mode": {
        "name": "ipython",
        "version": 3
      },
      "file_extension": ".py",
      "mimetype": "text/x-python",
      "name": "python",
      "nbconvert_exporter": "python",
      "pygments_lexer": "ipython3",
      "version": "3.9.13"
    }
  },
  "nbformat": 4,
  "nbformat_minor": 0
}
