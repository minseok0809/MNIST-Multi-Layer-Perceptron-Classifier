{
  "cells": [
    {
      "cell_type": "markdown",
      "metadata": {},
      "source": [
        "### 전력 상태 데이터 기반 이상탐지"
      ]
    },
    {
      "cell_type": "markdown",
      "metadata": {},
      "source": [
        "<br>"
      ]
    },
    {
      "cell_type": "markdown",
      "metadata": {},
      "source": [
        "[전력 설비 에너지 패턴 및 고장 분석 센서](https://www.aihub.or.kr/aihubdata/data/view.do?currMenu=115&topMenu=100&aihubDataSe=realm&dataSetSn=239)\n",
        "<br>[전력 상태 데이터 기반 이상탐지](https://aifactory.space/task/2642/overview)"
      ]
    },
    {
      "cell_type": "markdown",
      "metadata": {},
      "source": [
        "<br>"
      ]
    },
    {
      "cell_type": "code",
      "execution_count": 7,
      "metadata": {
        "colab": {
          "base_uri": "https://localhost:8080/"
        },
        "id": "xOd583CuaJYb",
        "outputId": "c4d2a9a8-692a-4002-c6d8-1181f315b280"
      },
      "outputs": [
        {
          "name": "stdout",
          "output_type": "stream",
          "text": [
            "Epoch [1/10] Loss: 0.07085090702356295\n",
            "Epoch [2/10] Loss: 0.0682684583372848\n",
            "Epoch [3/10] Loss: 0.06544640313747317\n",
            "Epoch [4/10] Loss: 0.06235591244212417\n",
            "Epoch [5/10] Loss: 0.0590531712527885\n",
            "Epoch [6/10] Loss: 0.055615015501199766\n",
            "Epoch [7/10] Loss: 0.05210197318431943\n",
            "Epoch [8/10] Loss: 0.048584660385237184\n",
            "Epoch [9/10] Loss: 0.04515658882121707\n",
            "Epoch [10/10] Loss: 0.04190996254599372\n",
            "학습이 완료되었습니다.\n"
          ]
        }
      ],
      "source": [
        "import sys\n",
        "import pandas as pd\n",
        "import torch\n",
        "import torch.nn as nn\n",
        "import torch.optim as optim\n",
        "from torch.utils.data import DataLoader\n",
        "\n",
        "x_train_path = 'data/train.csv'\n",
        "\n",
        "train = pd.read_csv(x_train_path)\n",
        "train =train.dropna()\n",
        "\n",
        "for column in train.columns:\n",
        "    if train[column].dtype in [float, int]:\n",
        "        # 컬럼의 최소값과 최대값 계산\n",
        "        min_val = train[column].min()\n",
        "        max_val = train[column].max()\n",
        "\n",
        "        # Min-Max 스케일링 적용\n",
        "        train[column] = (train[column] - min_val) / (max_val - min_val)\n",
        "\n",
        "data = torch.FloatTensor(train.values)\n",
        "dataloader = DataLoader(data, batch_size= 1024,shuffle=False)\n",
        "\n",
        "class Autoencoder(nn.Module):\n",
        "    def __init__(self):\n",
        "        super(Autoencoder, self).__init__()\n",
        "        self.encoder = nn.Sequential(\n",
        "            nn.Linear(35, 16),  # 인코더 입력 차원을 조절할 수 있습니다.\n",
        "            nn.ReLU(),\n",
        "        )\n",
        "        self.decoder = nn.Sequential(\n",
        "            nn.Linear(16, 35),  # 디코더 출력 차원을 조절할 수 있습니다.\n",
        "            nn.Sigmoid(),  # 0과 1 사이의 값으로 출력\n",
        "        )\n",
        "\n",
        "    def forward(self, x):\n",
        "        x = self.encoder(x)\n",
        "        x = self.decoder(x)\n",
        "        return x\n",
        "model = Autoencoder()\n",
        "criterion = nn.MSELoss()\n",
        "optimizer = optim.Adam(model.parameters(), lr=0.0001)\n",
        "\n",
        "\n",
        "# 학습\n",
        "correct = 0\n",
        "total = 0\n",
        "num_epochs = 10\n",
        "for epoch in range(num_epochs):\n",
        "  running_loss = 0.0\n",
        "  model.train()\n",
        "  for batch in dataloader:\n",
        "    inputs = batch\n",
        "\n",
        "    # 경사 초기화\n",
        "    optimizer.zero_grad()\n",
        "\n",
        "    # 순전파\n",
        "    outputs = model(inputs)\n",
        "    loss = criterion(outputs, inputs)\n",
        "\n",
        "    # 역전파 및 가중치 업데이트\n",
        "    loss.backward()\n",
        "    optimizer.step()\n",
        "\n",
        "    running_loss += loss.item()\n",
        "  print(f'Epoch [{epoch+1}/{num_epochs}] Loss: {running_loss/len(dataloader)}')\n",
        "\n",
        "print('학습이 완료되었습니다.')\n"
      ]
    },
    {
      "cell_type": "code",
      "execution_count": 8,
      "metadata": {
        "id": "MsQ2aCnighqn"
      },
      "outputs": [],
      "source": [
        "model.eval()\n",
        "\n",
        "mse_list = []\n",
        "with torch.no_grad():\n",
        "  output = model(data)\n",
        "\n",
        "for i in range(len(data)):\n",
        "    mse = ((data[i] - output[i])**2).mean()\n",
        "    mse_list.append(mse)"
      ]
    },
    {
      "cell_type": "code",
      "execution_count": 9,
      "metadata": {
        "id": "yoLUf1ibg5HM"
      },
      "outputs": [],
      "source": [
        "import numpy as np\n",
        "Q1 = np.percentile(mse_list, 25)\n",
        "Q3 = np.percentile(mse_list, 75)\n",
        "IQR = Q3 - Q1\n",
        "threshold = Q3 + 1.5 * IQR"
      ]
    },
    {
      "cell_type": "code",
      "execution_count": 10,
      "metadata": {
        "id": "Rtyx36svfdnx"
      },
      "outputs": [],
      "source": [
        "x_test = pd.read_csv('data/test_x.csv')\n",
        "data = torch.FloatTensor(x_test.values)\n",
        "\n",
        "mse_list = []\n",
        "\n",
        "model.eval()  # 모델을 평가 모드로 설정\n",
        "with torch.no_grad():\n",
        "    for i in range(data.shape[0]):\n",
        "        input_data = data[i].unsqueeze(0)  # 데이터를 모델의 입력 형식에 맞게 변환\n",
        "        reconstructed_data = model(input_data)\n",
        "        mse = nn.MSELoss()(reconstructed_data, input_data)\n",
        "        mse_list.append(mse.item())\n",
        "\n",
        "th = threshold\n",
        "\n",
        "y_pred = [0 if mse < th else 1 for mse in mse_list]\n",
        "y_pred_label = pd.DataFrame(y_pred, columns = ['LABEL'])"
      ]
    },
    {
      "cell_type": "code",
      "execution_count": 11,
      "metadata": {
        "id": "UHA-vUUOiCPs"
      },
      "outputs": [],
      "source": [
        "y_pred_save_path = 'label.csv'\n",
        "y_pred_label.to_csv(y_pred_save_path, index = False)"
      ]
    }
  ],
  "metadata": {
    "colab": {
      "provenance": []
    },
    "kernelspec": {
      "display_name": "Python 3",
      "name": "python3"
    },
    "language_info": {
      "codemirror_mode": {
        "name": "ipython",
        "version": 3
      },
      "file_extension": ".py",
      "mimetype": "text/x-python",
      "name": "python",
      "nbconvert_exporter": "python",
      "pygments_lexer": "ipython3",
      "version": "3.9.13"
    }
  },
  "nbformat": 4,
  "nbformat_minor": 0
}
