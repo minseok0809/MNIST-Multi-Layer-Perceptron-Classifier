{
  "cells": [
    {
      "cell_type": "markdown",
      "metadata": {},
      "source": [
        "### 한글 손 글씨 글자 분류기"
      ]
    },
    {
      "cell_type": "markdown",
      "metadata": {},
      "source": [
        "<br>"
      ]
    },
    {
      "cell_type": "markdown",
      "metadata": {},
      "source": [
        "[다양한 형태의 한글 문자 OCR](https://www.aihub.or.kr/aihubdata/data/view.do?currMenu=115&topMenu=100&aihubDataSe=realm&dataSetSn=91)\n",
        "<br>[한글 손 글씨 글자 분류기](https://aifactory.space/task/2656/baseline)"
      ]
    },
    {
      "cell_type": "markdown",
      "metadata": {},
      "source": [
        "<br>"
      ]
    },
    {
      "cell_type": "code",
      "execution_count": null,
      "metadata": {},
      "outputs": [],
      "source": [
        "!pip install pydot\n",
        "!pip install datasets\n",
        "sudo apt install graphviz\n",
        "!pip install -U tensorflow-addons"
      ]
    },
    {
      "cell_type": "markdown",
      "metadata": {},
      "source": [
        "### CNN"
      ]
    },
    {
      "cell_type": "code",
      "execution_count": null,
      "metadata": {},
      "outputs": [],
      "source": [
        "import pandas as pd\n",
        "import numpy as np\n",
        "from glob import glob\n",
        "import tensorflow as tf\n",
        "from tensorflow import keras\n",
        "from tensorflow.keras import layers\n",
        "import tensorflow_addons as tfa\n",
        "\n",
        "import PIL\n",
        "from tqdm import tqdm\n",
        "\n",
        "import os\n",
        "import json\n",
        "\n",
        "import warnings\n",
        "warnings.filterwarnings(\"ignore\")\n",
        "warnings.simplefilter('ignore')\n",
        "import matplotlib.pyplot as plt"
      ]
    },
    {
      "cell_type": "code",
      "execution_count": 2,
      "metadata": {},
      "outputs": [],
      "source": [
        "train_x_path = 'data/train_x.npy'\n",
        "train_y_path = 'data/train_y.npy'\n",
        "test_x_path = 'data/test_x.npy'\n",
        "\n",
        "train_x = np.load(train_x_path)\n",
        "train_y = np.load(train_y_path)\n",
        "test_x = np.load(test_x_path)\n",
        "\n",
        "for idx, (x, y) in enumerate(zip(train_x, train_y)):  \n",
        "    train_img = PIL.Image.fromarray(x)\n",
        "    train_img.save('data/image/' + y + \"/train_\" + str(idx) + '.png','PNG')\n",
        "\n",
        "for idx, test in enumerate(test_x):  \n",
        "    test_img = PIL.Image.fromarray(test)\n",
        "    test_img.save('data/test/' + str(idx) + '.png','PNG')"
      ]
    },
    {
      "cell_type": "code",
      "execution_count": 2,
      "metadata": {},
      "outputs": [
        {
          "name": "stdout",
          "output_type": "stream",
          "text": [
            "Found 1888 files belonging to 14 classes.\n",
            "Using 1511 files for training.\n"
          ]
        },
        {
          "name": "stderr",
          "output_type": "stream",
          "text": [
            "2023-11-12 14:47:47.762294: I tensorflow/core/common_runtime/gpu/gpu_device.cc:1886] Created device /job:localhost/replica:0/task:0/device:GPU:0 with 9538 MB memory:  -> device: 0, name: NVIDIA GeForce RTX 3090, pci bus id: 0000:65:00.0, compute capability: 8.6\n",
            "2023-11-12 14:47:47.762881: I tensorflow/core/common_runtime/gpu/gpu_device.cc:1886] Created device /job:localhost/replica:0/task:0/device:GPU:1 with 21245 MB memory:  -> device: 1, name: NVIDIA GeForce RTX 3090, pci bus id: 0000:b3:00.0, compute capability: 8.6\n"
          ]
        }
      ],
      "source": [
        "image_size = (128, 128)\n",
        "batch_size = 32\n",
        "\n",
        "train_ds = tf.keras.utils.image_dataset_from_directory(\n",
        " 'data/image/',\n",
        "  validation_split=0.2,\n",
        "  subset=\"training\",\n",
        "  seed=123,\n",
        "  image_size=image_size,\n",
        "  batch_size=batch_size)"
      ]
    },
    {
      "cell_type": "code",
      "execution_count": 3,
      "metadata": {},
      "outputs": [
        {
          "data": {
            "image/png": "[encoded data removed]",
            "text/plain": [
              "<Figure size 300x300 with 9 Axes>"
            ]
          },
          "metadata": {},
          "output_type": "display_data"
        }
      ],
      "source": [
        "import matplotlib.pyplot as plt\n",
        "\n",
        "plt.figure(figsize=(3, 3))\n",
        "for images, labels in train_ds.take(1):\n",
        "    for i in range(9):\n",
        "        ax = plt.subplot(3, 3, i + 1)\n",
        "        plt.imshow(images[i].numpy().astype(\"uint8\"))\n",
        "        plt.title(int(labels[i]))\n",
        "        plt.axis(\"off\")"
      ]
    },
    {
      "cell_type": "code",
      "execution_count": null,
      "metadata": {},
      "outputs": [],
      "source": [
        "\"\"\"\n",
        "data_augmentation = keras.Sequential(\n",
        "    [\n",
        "        layers.RandomFlip(\"horizontal\"),\n",
        "        layers.RandomRotation(0.1),\n",
        "    ]\n",
        ")\n",
        "\n",
        "plt.figure(figsize=(3, 3))\n",
        "for images, _ in train_ds.take(1):\n",
        "    for i in range(9):\n",
        "        augmented_images = data_augmentation(images)\n",
        "        ax = plt.subplot(3, 3, i + 1)\n",
        "        plt.imshow(augmented_images[0].numpy().astype(\"uint8\"))\n",
        "        plt.axis(\"off\")\n",
        "\n",
        "# Apply `data_augmentation` to the training images.\n",
        "train_ds = train_ds.map(\n",
        "    lambda img, label: (data_augmentation(img), label),\n",
        "    num_parallel_calls=tf.data.AUTOTUNE,\n",
        ")\n",
        "# Prefetching samples in GPU memory helps maximize GPU utilization.\n",
        "train_ds = train_ds.prefetch(tf.data.AUTOTUNE)\n",
        "# val_ds = val_ds.prefetch(tf.data.AUTOTUNE)\n",
        "\n",
        "\"\"\""
      ]
    },
    {
      "cell_type": "code",
      "execution_count": 5,
      "metadata": {},
      "outputs": [],
      "source": [
        "def make_model(input_shape, num_classes):\n",
        "    inputs = keras.Input(shape=input_shape)\n",
        "\n",
        "    # Entry block\n",
        "    x = layers.Rescaling(1.0 / 255)(inputs)\n",
        "    x = layers.Conv2D(128, 3, strides=2, padding=\"same\")(x)\n",
        "    x = layers.BatchNormalization()(x)\n",
        "    x = layers.Activation(\"relu\")(x)\n",
        "\n",
        "    previous_block_activation = x  # Set aside residual\n",
        "\n",
        "    for size in [256, 512, 728]:\n",
        "        x = layers.Activation(\"relu\")(x)\n",
        "        x = layers.SeparableConv2D(size, 3, padding=\"same\")(x)\n",
        "        x = layers.BatchNormalization()(x)\n",
        "\n",
        "        x = layers.Activation(\"relu\")(x)\n",
        "        x = layers.SeparableConv2D(size, 3, padding=\"same\")(x)\n",
        "        x = layers.BatchNormalization()(x)\n",
        "\n",
        "        x = layers.MaxPooling2D(3, strides=2, padding=\"same\")(x)\n",
        "\n",
        "        # Project residual\n",
        "        residual = layers.Conv2D(size, 1, strides=2, padding=\"same\")(\n",
        "            previous_block_activation\n",
        "        )\n",
        "        x = layers.add([x, residual])  # Add back residual\n",
        "        previous_block_activation = x  # Set aside next residual\n",
        "\n",
        "    x = layers.SeparableConv2D(1024, 3, padding=\"same\")(x)\n",
        "    x = layers.BatchNormalization()(x)\n",
        "    x = layers.Activation(\"relu\")(x)\n",
        "\n",
        "    x = layers.GlobalAveragePooling2D()(x)\n",
        "    if num_classes == 2:\n",
        "        activation = \"sigmoid\"\n",
        "        units = 1\n",
        "    else:\n",
        "        activation = \"softmax\"\n",
        "        units = num_classes\n",
        "\n",
        "    # x = layers.Dropout(0.5)(x)\n",
        "    outputs = layers.Dense(units, activation=activation)(x)\n",
        "    return keras.Model(inputs, outputs)\n",
        "\n",
        "\n",
        "model = make_model(input_shape=image_size + (3,), num_classes=14)\n",
        "# keras.utils.plot_model(model, show_shapes=True)"
      ]
    },
    {
      "cell_type": "code",
      "execution_count": 6,
      "metadata": {},
      "outputs": [
        {
          "name": "stdout",
          "output_type": "stream",
          "text": [
            "Epoch 1/5\n"
          ]
        },
        {
          "name": "stderr",
          "output_type": "stream",
          "text": [
            "2023-11-12 14:48:00.445459: I tensorflow/compiler/xla/stream_executor/cuda/cuda_dnn.cc:442] Loaded cuDNN version 8902\n",
            "2023-11-12 14:48:02.323881: I tensorflow/compiler/xla/service/service.cc:168] XLA service 0x7fbf77f35610 initialized for platform CUDA (this does not guarantee that XLA will be used). Devices:\n",
            "2023-11-12 14:48:02.323902: I tensorflow/compiler/xla/service/service.cc:176]   StreamExecutor device (0): NVIDIA GeForce RTX 3090, Compute Capability 8.6\n",
            "2023-11-12 14:48:02.323907: I tensorflow/compiler/xla/service/service.cc:176]   StreamExecutor device (1): NVIDIA GeForce RTX 3090, Compute Capability 8.6\n",
            "2023-11-12 14:48:02.327638: I tensorflow/compiler/mlir/tensorflow/utils/dump_mlir_util.cc:269] disabling MLIR crash reproducer, set env var `MLIR_CRASH_REPRODUCER_DIRECTORY` to enable.\n",
            "2023-11-12 14:48:02.458943: I ./tensorflow/compiler/jit/device_compiler.h:186] Compiled cluster using XLA!  This line is logged at most once for the lifetime of the process.\n"
          ]
        },
        {
          "name": "stdout",
          "output_type": "stream",
          "text": [
            "48/48 [==============================] - 11s 58ms/step - loss: 1.6385 - accuracy: 0.4739\n",
            "Epoch 2/5\n",
            "48/48 [==============================] - 2s 42ms/step - loss: 0.5328 - accuracy: 0.8484\n",
            "Epoch 3/5\n",
            "48/48 [==============================] - 2s 42ms/step - loss: 0.2450 - accuracy: 0.9385\n",
            "Epoch 4/5\n",
            "48/48 [==============================] - 2s 42ms/step - loss: 0.1204 - accuracy: 0.9729\n",
            "Epoch 5/5\n",
            "48/48 [==============================] - 2s 42ms/step - loss: 0.0551 - accuracy: 0.9894\n"
          ]
        },
        {
          "data": {
            "text/plain": [
              "<keras.src.callbacks.History at 0x7fc57e0c24c0>"
            ]
          },
          "execution_count": 6,
          "metadata": {},
          "output_type": "execute_result"
        }
      ],
      "source": [
        "epochs = 5\n",
        "\n",
        "callbacks = [\n",
        "    keras.callbacks.ModelCheckpoint(\"save_at_{epoch}.keras\"),\n",
        "]\n",
        "model.compile(\n",
        "    optimizer=keras.optimizers.Adam(1e-3),\n",
        "    # loss=\"binary_crossentropy\",\n",
        "    loss=tf.keras.losses.SparseCategoricalCrossentropy(),\n",
        "    metrics=[\"accuracy\"],\n",
        ")\n",
        "model.fit(\n",
        "    train_ds,\n",
        "    epochs=epochs,\n",
        "    callbacks=callbacks,\n",
        "    # validation_data=val_ds,\n",
        ")"
      ]
    },
    {
      "cell_type": "code",
      "execution_count": 7,
      "metadata": {},
      "outputs": [],
      "source": [
        "def sorted_list(path_list):\n",
        "    \n",
        "    path_list = sorted(path_list, reverse=False)\n",
        "    path_list = sorted(path_list, key=len)\n",
        "    \n",
        "    return path_list"
      ]
    },
    {
      "cell_type": "code",
      "execution_count": null,
      "metadata": {},
      "outputs": [],
      "source": [
        "path_list = sorted_list(glob(\"data/image/**/*.png\"))\n",
        "\n",
        "predictions = []\n",
        "load_model = tf.keras.models.load_model('save_at_2.keras')\n",
        "for idx, path in enumerate(path_list):\n",
        "    img = keras.utils.load_img(\n",
        "        path, target_size=image_size\n",
        "    )\n",
        "    img_array = keras.utils.img_to_array(img)\n",
        "    img_array = tf.expand_dims(img_array, 0)\n",
        "    prediction = load_model.predict(img_array)\n",
        "    prediction = np.argmax(prediction[0])\n",
        "    predictions.append(prediction)\n",
        "    # plt.imshow(img)\n",
        "    print()\n",
        "    print(idx, prediction)\n",
        "\n",
        "# np.save('y_pred.npy', predictions)   "
      ]
    },
    {
      "cell_type": "markdown",
      "metadata": {},
      "source": [
        "### CNN 2"
      ]
    },
    {
      "cell_type": "code",
      "execution_count": 29,
      "metadata": {},
      "outputs": [
        {
          "name": "stdout",
          "output_type": "stream",
          "text": [
            "Epoch 1/10\n",
            "48/48 [==============================] - 2s 10ms/step - loss: 2.6512 - accuracy: 0.0861\n",
            "Epoch 2/10\n",
            "48/48 [==============================] - 0s 7ms/step - loss: 2.3504 - accuracy: 0.2563\n",
            "Epoch 3/10\n",
            "48/48 [==============================] - 0s 8ms/step - loss: 1.6203 - accuracy: 0.5252\n",
            "Epoch 4/10\n",
            "48/48 [==============================] - 0s 8ms/step - loss: 0.9379 - accuracy: 0.7113\n",
            "Epoch 5/10\n",
            "48/48 [==============================] - 0s 8ms/step - loss: 0.5158 - accuracy: 0.8642\n",
            "Epoch 6/10\n",
            "48/48 [==============================] - 0s 8ms/step - loss: 0.2653 - accuracy: 0.9311\n",
            "Epoch 7/10\n",
            "48/48 [==============================] - 0s 8ms/step - loss: 0.1292 - accuracy: 0.9821\n",
            "Epoch 8/10\n",
            "48/48 [==============================] - 0s 8ms/step - loss: 0.0612 - accuracy: 0.9914\n",
            "Epoch 9/10\n",
            "48/48 [==============================] - 0s 8ms/step - loss: 0.0249 - accuracy: 1.0000\n",
            "Epoch 10/10\n",
            "48/48 [==============================] - 0s 8ms/step - loss: 0.0127 - accuracy: 1.0000\n"
          ]
        }
      ],
      "source": [
        "import numpy as np\n",
        "import sys\n",
        "import tensorflow as tf\n",
        "from tensorflow import keras\n",
        "\n",
        "x_train_path = 'data/train_x.npy'\n",
        "y_train_path = 'data/train_y.npy'\n",
        "x_test_path = 'data/test_x.npy'\n",
        "\n",
        "x_train = np.load(x_train_path)\n",
        "y_train = np.load(y_train_path)\n",
        "\n",
        "# 데이터 정규화: 이미지 픽셀 값을 [0, 1] 범위로 스케일링\n",
        "x_train = x_train.astype('float32') / 255.0\n",
        "\n",
        "# 라벨링을 숫자로 변환\n",
        "unique_labels = sorted(list(set(y_train)))\n",
        "label_to_index = {label: i for i, label in enumerate(unique_labels)}\n",
        "y_train = np.array([label_to_index[label] for label in y_train])\n",
        "\n",
        "# CNN 모델 정의\n",
        "model = keras.Sequential([\n",
        "    keras.layers.Reshape((128, 128, 1), input_shape=(128, 128)),  # 차원 추가\n",
        "    keras.layers.Conv2D(32, (3, 3), activation='relu'),\n",
        "    keras.layers.MaxPooling2D((2, 2)),\n",
        "    keras.layers.Conv2D(64, (3, 3), activation='relu'),\n",
        "    keras.layers.MaxPooling2D((2, 2)),\n",
        "    keras.layers.Flatten(),\n",
        "    keras.layers.Dense(128, activation='relu'),\n",
        "    keras.layers.Dense(len(unique_labels), activation='softmax')\n",
        "])\n",
        "\n",
        "# 모델 컴파일 with custom learning rate\n",
        "optimizer = keras.optimizers.Adam(learning_rate=0.001)\n",
        "model.compile(optimizer=optimizer, loss='sparse_categorical_crossentropy', metrics=['accuracy'])\n",
        "\n",
        "# 모델 학습\n",
        "history = model.fit(x_train, y_train, epochs=10, batch_size=32)\n",
        "\n",
        "# 학습 결과 저장\n",
        "np.save('train_history.npy', history.history)\n",
        "\n",
        "# 모델 저장\n",
        "model.save('model.h5')\n"
      ]
    },
    {
      "cell_type": "code",
      "execution_count": 31,
      "metadata": {},
      "outputs": [],
      "source": [
        "import numpy as np\n",
        "import sys\n",
        "from tensorflow.keras.models import load_model"
      ]
    },
    {
      "cell_type": "code",
      "execution_count": 32,
      "metadata": {},
      "outputs": [
        {
          "name": "stdout",
          "output_type": "stream",
          "text": [
            "12/12 [==============================] - 0s 6ms/step\n"
          ]
        }
      ],
      "source": [
        "model_path = 'model.h5'\n",
        "x_test_path = 'data/test_x.npy'\n",
        "y_pred_save_path = 'data/pred_y.npy'\n",
        "\n",
        "model = load_model(model_path)\n",
        "x_test = np.load(x_test_path)\n",
        "\n",
        "y_pred = model.predict(x_test)\n",
        "y_pred_labels = np.argmax(y_pred, axis=1)\n",
        "\n",
        "np.save(y_pred_save_path, y_pred_labels)"
      ]
    },
    {
      "cell_type": "markdown",
      "metadata": {},
      "source": [
        "### Reference"
      ]
    },
    {
      "cell_type": "markdown",
      "metadata": {},
      "source": [
        "[[Python] Tensorflow로 나만의 데이터셋 만들기](https://stickode.tistory.com/670)\n",
        "<br>[이미지 로드 및 전처리하기](https://www.tensorflow.org/tutorials/load_data/images?hl=ko)\n",
        "<br>[Image classification from scratch](https://keras.io/examples/vision/image_classification_from_scratch/)"
      ]
    },
    {
      "cell_type": "markdown",
      "metadata": {},
      "source": [
        "[[Python] Tensorflow로 나만의 데이터셋 만들기](https://stickode.tistory.com/670)\n",
        "<br>[이미지 로드 및 전처리하기](https://www.tensorflow.org/tutorials/load_data/images?hl=ko)\n",
        "<br>[Image classification from scratch](https://keras.io/examples/vision/image_classification_from_scratch/)"
      ]
    }
  ],
  "metadata": {
    "colab": {
      "provenance": []
    },
    "kernelspec": {
      "display_name": "Python 3",
      "name": "python3"
    },
    "language_info": {
      "codemirror_mode": {
        "name": "ipython",
        "version": 3
      },
      "file_extension": ".py",
      "mimetype": "text/x-python",
      "name": "python",
      "nbconvert_exporter": "python",
      "pygments_lexer": "ipython3",
      "version": "3.9.13"
    }
  },
  "nbformat": 4,
  "nbformat_minor": 0
}
