{
  "cells": [
    {
      "cell_type": "markdown",
      "metadata": {},
      "source": [
        "### 화훼 종류 분류"
      ]
    },
    {
      "cell_type": "markdown",
      "metadata": {},
      "source": [
        "<br>"
      ]
    },
    {
      "cell_type": "markdown",
      "metadata": {},
      "source": [
        "[훼손 및 블러링 데이터](https://www.aihub.or.kr/aihubdata/data/view.do?currMenu=115&topMenu=100&aihubDataSe=realm&dataSetSn=71543)\n",
        "<br>[이미지 데이터를 활용한 카메라 렌즈의 훼손 및 블러링 탐지 툴 개발](https://aifactory.space/task/2654/overview)"
      ]
    },
    {
      "cell_type": "markdown",
      "metadata": {},
      "source": [
        "<br>"
      ]
    },
    {
      "cell_type": "markdown",
      "metadata": {},
      "source": [
        "### CNN"
      ]
    },
    {
      "cell_type": "code",
      "execution_count": 19,
      "metadata": {},
      "outputs": [
        {
          "name": "stdout",
          "output_type": "stream",
          "text": [
            "Epoch 1/15\n"
          ]
        },
        {
          "name": "stderr",
          "output_type": "stream",
          "text": [
            "2023-11-13 06:27:17.603620: E tensorflow/core/grappler/optimizers/meta_optimizer.cc:961] layout failed: INVALID_ARGUMENT: Size of values 0 does not match size of permutation 4 @ fanin shape insequential_6/dropout_14/dropout/SelectV2-2-TransposeNHWCToNCHW-LayoutOptimizer\n"
          ]
        },
        {
          "name": "stdout",
          "output_type": "stream",
          "text": [
            "57/57 [==============================] - 15s 190ms/step - loss: 2.4726 - accuracy: 0.3252\n",
            "Epoch 2/15\n",
            "57/57 [==============================] - 11s 189ms/step - loss: 1.7193 - accuracy: 0.4443\n",
            "Epoch 3/15\n",
            "57/57 [==============================] - 11s 190ms/step - loss: 1.4124 - accuracy: 0.5267\n",
            "Epoch 4/15\n",
            "57/57 [==============================] - 11s 190ms/step - loss: 1.6591 - accuracy: 0.4671\n",
            "Epoch 5/15\n",
            "57/57 [==============================] - 11s 190ms/step - loss: 1.2284 - accuracy: 0.6047\n",
            "Epoch 6/15\n",
            "57/57 [==============================] - 11s 190ms/step - loss: 0.9603 - accuracy: 0.6893\n",
            "Epoch 7/15\n",
            "57/57 [==============================] - 11s 190ms/step - loss: 0.7599 - accuracy: 0.7567\n",
            "Epoch 8/15\n",
            "57/57 [==============================] - 11s 190ms/step - loss: 0.6335 - accuracy: 0.8035\n",
            "Epoch 9/15\n",
            "57/57 [==============================] - 11s 190ms/step - loss: 0.5157 - accuracy: 0.8357\n",
            "Epoch 10/15\n",
            "57/57 [==============================] - 11s 191ms/step - loss: 0.3807 - accuracy: 0.8853\n",
            "Epoch 11/15\n",
            "57/57 [==============================] - 11s 191ms/step - loss: 1.3385 - accuracy: 0.5774\n",
            "Epoch 12/15\n",
            "57/57 [==============================] - 11s 190ms/step - loss: 0.6308 - accuracy: 0.7918\n",
            "Epoch 13/15\n",
            "57/57 [==============================] - 11s 190ms/step - loss: 0.3658 - accuracy: 0.8836\n",
            "Epoch 14/15\n",
            "57/57 [==============================] - 11s 190ms/step - loss: 1.1639 - accuracy: 0.6247\n",
            "Epoch 15/15\n",
            "57/57 [==============================] - 11s 190ms/step - loss: 0.4658 - accuracy: 0.8524\n",
            "INFO:tensorflow:Assets written to: output/assets\n"
          ]
        },
        {
          "name": "stderr",
          "output_type": "stream",
          "text": [
            "INFO:tensorflow:Assets written to: output/assets\n"
          ]
        }
      ],
      "source": [
        "import numpy as np\n",
        "import sys\n",
        "from tensorflow import keras\n",
        "from tensorflow.keras import layers\n",
        "from tensorflow.keras.utils import to_categorical\n",
        "import pandas as pd\n",
        "\n",
        "# 이미지 파일 크기 설정\n",
        "img_size = (224, 224)\n",
        "\n",
        "x_train_path = 'data/data/x_train.npy'\n",
        "y_train_path = 'data/data/y_train.npy'\n",
        "model_save_path = 'output'\n",
        "\n",
        "x_train = np.load(x_train_path)\n",
        "y_train = np.load(y_train_path)\n",
        "\n",
        "\"\"\"\n",
        "# 모델 구축\n",
        "model = keras.Sequential([\n",
        "    layers.InputLayer(input_shape=(img_size[0], img_size[1], 3)),\n",
        "    layers.Conv2D(64, 3, activation=\"relu\"),\n",
        "    layers.MaxPooling2D(pool_size=(2, 2)),\n",
        "    layers.Flatten(),\n",
        "    layers.Dense(y_train.shape[1], activation=\"softmax\")\n",
        "])\n",
        "\"\"\"\n",
        "\n",
        "model = keras.models.Sequential([\n",
        "    layers.InputLayer(input_shape=(img_size[0], img_size[1], 3)),\n",
        "    keras.layers.Conv2D(64, 3, activation='relu', padding='SAME'), #cnn layer\n",
        "    keras.layers.BatchNormalization(), #batch norm layer\n",
        "    keras.layers.Conv2D(64, 3, activation='relu', padding='SAME'), #cnn layer\n",
        "    keras.layers.BatchNormalization(), #batch norm layer\n",
        "    keras.layers.Conv2D(64, 3, activation='relu', padding='SAME'), #cnn layer\n",
        "    keras.layers.BatchNormalization(), #batch norm layer\n",
        "\n",
        "    keras.layers.MaxPooling2D(pool_size=(2, 2)), #pooling layer\n",
        "    keras.layers.Dropout(0.25),\n",
        "\n",
        "    keras.layers.Conv2D(128, 3, activation='relu', padding='SAME'), #cnn layer\n",
        "    keras.layers.BatchNormalization(), #batch norm layer\n",
        "    keras.layers.Conv2D(128, 3, activation='relu', padding='SAME'), #cnn layer\n",
        "    keras.layers.BatchNormalization(), #batch norm layer\n",
        "    keras.layers.Conv2D(128, 3, activation='relu', padding='SAME'), #cnn layer\n",
        "    keras.layers.BatchNormalization(), #batch norm layer\n",
        "\n",
        "    keras.layers.MaxPooling2D(pool_size=(2, 2)), #pooling layer\n",
        "    keras.layers.Dropout(0.25),\n",
        "\n",
        "    keras.layers.Conv2D(256, 3, activation='relu', padding='SAME'), #cnn layer\n",
        "    keras.layers.BatchNormalization(), #batch norm layer\n",
        "    keras.layers.Conv2D(256, 3, activation='relu', padding='SAME'), #cnn layer\n",
        "    keras.layers.BatchNormalization(), #batch norm layer\n",
        "    keras.layers.Conv2D(256, 3, activation='relu', padding='SAME'), #cnn layer\n",
        "    keras.layers.BatchNormalization(), #batch norm layer\n",
        "    keras.layers.Conv2D(256, 3, activation='relu', padding='SAME'), #cnn layer\n",
        "    keras.layers.BatchNormalization(), #batch norm layer\n",
        "\n",
        "    keras.layers.MaxPooling2D(pool_size=(2, 2)), #pooling layer\n",
        "    keras.layers.Dropout(0.5),\n",
        "\n",
        "    keras.layers.Flatten(),\n",
        "\n",
        "    keras.layers.Dense(512, activation=\"relu\"),\n",
        "    keras.layers.BatchNormalization(),\n",
        "    keras.layers.Dropout(0.2),\n",
        "\n",
        "    keras.layers.Dense(y_train.shape[1], activation=\"softmax\") # ouput layer\n",
        "    ])\n",
        "\n",
        "model.compile(optimizer='adam', loss='categorical_crossentropy', metrics=['accuracy'])\n",
        "model.fit(x_train, y_train, epochs=15, batch_size=32)\n",
        "\n",
        "model.save(model_save_path)"
      ]
    },
    {
      "cell_type": "code",
      "execution_count": 21,
      "metadata": {},
      "outputs": [
        {
          "name": "stdout",
          "output_type": "stream",
          "text": [
            "15/15 [==============================] - 1s 44ms/step\n"
          ]
        }
      ],
      "source": [
        "import numpy as np\n",
        "import sys\n",
        "from tensorflow.keras.models import load_model\n",
        "import pandas as pd\n",
        "\n",
        "model_path = 'output'\n",
        "x_test_path = 'data/data/x_test.npy'\n",
        "y_pred_save_path = 'y_pred.npy'\n",
        "\n",
        "model = load_model(model_path)\n",
        "x_test = np.load(x_test_path)\n",
        "\n",
        "y_pred = model.predict(x_test)\n",
        "y_pred_labels = np.argmax(y_pred, axis=1)\n",
        "\n",
        "np.save(y_pred_save_path, y_pred_labels)"
      ]
    }
  ],
  "metadata": {
    "accelerator": "GPU",
    "colab": {
      "gpuType": "T4",
      "provenance": []
    },
    "kernelspec": {
      "display_name": "Python 3",
      "name": "python3"
    },
    "language_info": {
      "codemirror_mode": {
        "name": "ipython",
        "version": 3
      },
      "file_extension": ".py",
      "mimetype": "text/x-python",
      "name": "python",
      "nbconvert_exporter": "python",
      "pygments_lexer": "ipython3",
      "version": "3.9.13"
    }
  },
  "nbformat": 4,
  "nbformat_minor": 0
}
