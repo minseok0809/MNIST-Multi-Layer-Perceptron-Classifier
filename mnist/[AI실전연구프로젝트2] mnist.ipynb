{
 "cells": [
  {
   "cell_type": "markdown",
   "metadata": {},
   "source": [
    "# [AI7008] AI실전연구프로젝트2\n",
    "Professor: 김태영\n",
    "<br><br>Student: Minseok Yang (msyang0809@khu.ac.kr)\n",
    "<br>Number: 2023310384"
   ]
  },
  {
   "cell_type": "markdown",
   "metadata": {},
   "source": [
    "---"
   ]
  },
  {
   "cell_type": "markdown",
   "metadata": {},
   "source": [
    "# [Project] MNIST"
   ]
  },
  {
   "cell_type": "markdown",
   "metadata": {},
   "source": [
    "## Content"
   ]
  },
  {
   "cell_type": "markdown",
   "metadata": {},
   "source": [
    "Data Preprocessing\n",
    "<br/>Random Baseline \n",
    "<br/>Model Training\n",
    "<br/>Model Inference\n",
    "<br/>DIY MNIST Image Inference"
   ]
  },
  {
   "cell_type": "markdown",
   "metadata": {},
   "source": [
    "---"
   ]
  },
  {
   "cell_type": "markdown",
   "metadata": {},
   "source": [
    "### Data Preprocessing"
   ]
  },
  {
   "cell_type": "code",
   "execution_count": null,
   "metadata": {},
   "outputs": [],
   "source": [
    "import os\n",
    "import sys\n",
    "\n",
    "library_files = ['data_preprocessing.py']\n",
    "\n",
    "for library_file in library_files:\n",
    "    module_path = os.path.abspath(os.path.join(library_file))\n",
    "    if module_path not in sys.path:\n",
    "        # sys.path.append(module_path)\n",
    "        sys.path.insert(1, module_path)     "
   ]
  },
  {
   "cell_type": "code",
   "execution_count": null,
   "metadata": {},
   "outputs": [],
   "source": [
    "from data_preprocessing import unzip_file\n",
    "from data_preprocessing import to_csv"
   ]
  },
  {
   "cell_type": "code",
   "execution_count": null,
   "metadata": {},
   "outputs": [],
   "source": [
    "savepath = \"./data\"\n",
    "baseurl = \"http://yann.lecun.com/exdb/mnist\"\n",
    "files = [\n",
    "\t\"train-images-idx3-ubyte.gz\",\n",
    "\t\"train-labels-idx1-ubyte.gz\",\n",
    "\t\"t10k-images-idx3-ubyte.gz\",\n",
    "\t\"t10k-labels-idx1-ubyte.gz\"]\n",
    "\n",
    "unzip_file(savepath, baseurl, files)"
   ]
  },
  {
   "cell_type": "code",
   "execution_count": 8,
   "metadata": {},
   "outputs": [],
   "source": [
    "to_csv(\"train\", 60000)\n",
    "to_csv(\"t10k\", 10000)"
   ]
  },
  {
   "cell_type": "markdown",
   "metadata": {},
   "source": [
    "### Random Baseline "
   ]
  },
  {
   "cell_type": "code",
   "execution_count": 30,
   "metadata": {},
   "outputs": [
    {
     "name": "stdout",
     "output_type": "stream",
     "text": [
      "Accuracy: 0.10 %\n"
     ]
    }
   ],
   "source": [
    "!python -m score \\\n",
    "    --train_dataset 'data/train.csv' \\\n",
    "    --test_dataset 'data/t10k.csv' \\\n",
    "    --label [0, 1, 2, 3, 4, 5, 6, 7, 8, 9]"
   ]
  },
  {
   "cell_type": "markdown",
   "metadata": {},
   "source": [
    "### Model Training"
   ]
  },
  {
   "cell_type": "code",
   "execution_count": 15,
   "metadata": {},
   "outputs": [
    {
     "name": "stdout",
     "output_type": "stream",
     "text": [
      "Training Accuracy: 99.43 %\n"
     ]
    }
   ],
   "source": [
    "!python -m train \\\n",
    "    --train_dataset 'data/train.csv' \\\n",
    "    --save_model_path 'model/mnist_model.sav' \\\n",
    "    --log_path 'log/training_log.xlsx' \\\n",
    "    --label [0, 1, 2, 3, 4, 5, 6, 7, 8, 9]"
   ]
  },
  {
   "cell_type": "markdown",
   "metadata": {},
   "source": [
    "### Model Inference"
   ]
  },
  {
   "cell_type": "code",
   "execution_count": 38,
   "metadata": {},
   "outputs": [
    {
     "name": "stdout",
     "output_type": "stream",
     "text": [
      "Accuracy: 97.90 %\n"
     ]
    }
   ],
   "source": [
    "!python -m inference \\\n",
    "    --test_dataset 'data/t10k.csv' \\\n",
    "    --load_model_path 'model/mnist_model.sav' \\\n",
    "    --log_path 'log/inference_log.xlsx' \\\n",
    "    --label [0, 1, 2, 3, 4, 5, 6, 7, 8, 9]"
   ]
  },
  {
   "cell_type": "markdown",
   "metadata": {},
   "source": [
    "### DIY MNIST Image Inference"
   ]
  },
  {
   "cell_type": "code",
   "execution_count": 348,
   "metadata": {},
   "outputs": [
    {
     "data": {
      "image/png": "[encoded data removed]",
      "text/plain": [
       "<Figure size 1100x400 with 10 Axes>"
      ]
     },
     "metadata": {},
     "output_type": "display_data"
    },
    {
     "name": "stdout",
     "output_type": "stream",
     "text": [
      "\n",
      "\n",
      "The number of samples: 10\n",
      "Accuracy: 40.00 %\n"
     ]
    }
   ],
   "source": [
    "!python -m inference \\\n",
    "    --load_model_path 'model/mnist_model.sav' \\\n",
    "    --image_path './diy/original/' \\\n",
    "    --save_plot_path './diy/plot/diy_inference.png' \\\n",
    "    --log_path 'log/diy_inference_log.xlsx' \\\n",
    "    --label [0, 1, 2, 3, 4, 5, 6, 7, 8, 9]"
   ]
  },
  {
   "cell_type": "markdown",
   "metadata": {},
   "source": [
    "### Reference"
   ]
  },
  {
   "cell_type": "markdown",
   "metadata": {},
   "source": [
    "<b>Data</b>\n",
    "<br>[MNIST](http://yann.lecun.com/exdb/mnist/)\n",
    "\n",
    "<br><b>Github</b>\n",
    "<br>[eesgetdegrees/format-your-own-images-to-match-MNIST-dataset](https://github.com/eesgetdegrees/format-your-own-images-to-match-MNIST-dataset)\n",
    "\n",
    "<br><b>Kaggle</b>\n",
    "<br>[MNIST SciKit-Learn Tutorial](https://www.kaggle.com/code/gainknowledge/mnist-scikit-learn-tutorial)\n",
    "<br>[MNIST | Data Augmentation | 97% Accuracy](https://www.kaggle.com/code/pranjalsriv/mnist-data-augmentation-97-accuracy)\n",
    "\n",
    "<br><b>Blog</b>\n",
    "<br>[[Machine Learning] 이미지 내부 문자 인식하기](https://teeeeeeemo.tistory.com/42)\n",
    "<br>[Save and Load Machine Learning Models in Python with scikit-learn](https://machinelearningmastery.com/save-load-machine-learning-models-python-scikit-learn/)"
   ]
  }
 ],
 "metadata": {
  "kernelspec": {
   "display_name": "exercise",
   "language": "python",
   "name": "python3"
  },
  "language_info": {
   "codemirror_mode": {
    "name": "ipython",
    "version": 3
   },
   "file_extension": ".py",
   "mimetype": "text/x-python",
   "name": "python",
   "nbconvert_exporter": "python",
   "pygments_lexer": "ipython3",
   "version": "3.11.5"
  },
  "orig_nbformat": 4
 },
 "nbformat": 4,
 "nbformat_minor": 2
}
